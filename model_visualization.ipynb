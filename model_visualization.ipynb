{
 "cells": [
  {
   "cell_type": "markdown",
   "metadata": {
    "colab_type": "text",
    "id": "IpRDnryKvic_"
   },
   "source": [
    "# Visualization of fluid channel models\n",
    "\n",
    "This notebook is designed for visualization of models of refrigerant\n",
    "flowing through a microfluidic channel.\n",
    "\n",
    "Created on Wed Mar 25 9:45:13 2020  \n",
    "author: ericmuckley@gmail.com"
   ]
  },
  {
   "cell_type": "markdown",
   "metadata": {
    "colab_type": "text",
    "id": "F4Tsbr3WvvHx"
   },
   "source": [
    "### Import libraries"
   ]
  },
  {
   "cell_type": "code",
   "execution_count": 1,
   "metadata": {
    "colab": {},
    "colab_type": "code",
    "id": "wTrQVMlru_eG"
   },
   "outputs": [],
   "source": [
    "import os\n",
    "import numpy as np\n",
    "from glob import glob\n",
    "import matplotlib.pyplot as plt\n",
    "from mpl_toolkits.mplot3d import Axes3D\n",
    "\n",
    "# change matplotlib settings to make plots look nicer\n",
    "plt.rcParams['xtick.labelsize'] = 18\n",
    "plt.rcParams['ytick.labelsize'] = 18\n",
    "plt.rcParams['axes.linewidth'] = 3\n",
    "plt.rcParams['xtick.minor.width'] = 3\n",
    "plt.rcParams['xtick.major.width'] = 3\n",
    "plt.rcParams['ytick.minor.width'] = 3\n",
    "plt.rcParams['ytick.major.width'] = 3"
   ]
  },
  {
   "cell_type": "markdown",
   "metadata": {
    "colab_type": "text",
    "id": "x1TI-fEhvHPu"
   },
   "source": [
    "### Get model list"
   ]
  },
  {
   "cell_type": "code",
   "execution_count": 2,
   "metadata": {
    "colab": {
     "base_uri": "https://localhost:8080/",
     "height": 544
    },
    "colab_type": "code",
    "id": "7AeYMo1PvF0O",
    "outputId": "79c64ad7-4878-440a-b553-90469075ad3e"
   },
   "outputs": [
    {
     "name": "stdout",
     "output_type": "stream",
     "text": [
      "Found 17 images:\n",
      "25lbhA0010.tif\n",
      "25lbhA0020.tif\n",
      "25lbhA0030.tif\n",
      "25lbhA0040.tif\n",
      "25lbhA0050.tif\n",
      "25lbhA0060.tif\n",
      "25lbhA0070.tif\n",
      "75lbh000010.tif\n",
      "75lbh000020.tif\n",
      "75lbh000030.tif\n",
      "75lbh000040.tif\n",
      "75lbh000050.tif\n",
      "75lbh000060.tif\n",
      "75lbh000070.tif\n",
      "75lbh000080.tif\n",
      "75lbh000090.tif\n",
      "75lbh000100.tif\n"
     ]
    }
   ],
   "source": [
    "# set path of folder which contains image files\n",
    "folder_path = os.path.join(os.getcwd(), 'models')\n",
    "all_models = [m for m in glob(folder_path+'/*') if '.npy' in m]\n",
    "print('Found {} models:'.format(len(all_models)))\n",
    "for m in all_models:\n",
    "    print(os.path.split(m)[1])"
   ]
  },
  {
   "cell_type": "markdown",
   "metadata": {
    "colab_type": "text",
    "id": "9TmeabtNwT4H"
   },
   "source": [
    "### Define some functions to use later"
   ]
  },
  {
   "cell_type": "code",
   "execution_count": 3,
   "metadata": {
    "colab": {},
    "colab_type": "code",
    "id": "GTCQUGL6wea5"
   },
   "outputs": [],
   "source": [
    "def plot_setup(labels=['X', 'Y'], fsize=18, setlimits=False,\n",
    "               limits=[0,1,0,1], title='', size=None,\n",
    "               legend=False, save=False, filename='plot.jpg'):\n",
    "    \"\"\"Creates a custom plot configuration to make graphs look nice.\n",
    "    This can be called with matplotlib for setting axes labels,\n",
    "    titles, axes ranges, and the font size of plot labels.\n",
    "    This should be called between plt.plot() and plt.show() commands.\"\"\"\n",
    "    plt.xlabel(str(labels[0]), fontsize=fsize)\n",
    "    plt.ylabel(str(labels[1]), fontsize=fsize)\n",
    "    plt.title(title, fontsize=fsize)\n",
    "    fig = plt.gcf()\n",
    "    if size:\n",
    "        fig.set_size_inches(size[0], size[1])\n",
    "    else:\n",
    "        fig.set_size_inches(10, 10)\n",
    "    if legend:\n",
    "        plt.legend(fontsize=fsize-4)\n",
    "    if setlimits:\n",
    "        plt.xlim((limits[0], limits[1]))\n",
    "        plt.ylim((limits[2], limits[3]))\n",
    "    if save:\n",
    "        fig.savefig(filename, dpi=120, bbox_inches='tight')\n",
    "        plt.tight_layout()\n",
    "\n",
    "\n",
    "def scale_image(image, scaling_factor=2):\n",
    "    \"\"\"Scale a 2D image using a scaling factor.\"\"\"\n",
    "    from skimage.transform import resize\n",
    "    # get number of pixels in each dimension\n",
    "    x_pixels = np.shape(image)[1]\n",
    "    y_pixels = np.shape(image)[0]\n",
    "    scaled_image  = resize(\n",
    "        image, (scaling_factor*y_pixels, scaling_factor*x_pixels))\n",
    "    return scaled_image\n",
    "\n",
    "\n",
    "def plot_channel_image(image, title=None, vmin=None, vmax=None):\n",
    "    \"\"\"Plot image of the channel, colored by void fraction.\"\"\"\n",
    "    plt.imshow(image, origin='lower', cmap='jet', vmin=vmin, vmax=vmax, )\n",
    "    fig = plt.gcf()\n",
    "    fig.set_size_inches(11,11)\n",
    "    plt.axis('off')\n",
    "    if title is not None:\n",
    "        plt.title(title, fontsize=16)\n",
    "    plt.show()\n",
    "\n",
    "\n",
    "def get_bubble_profile(rad=10):\n",
    "    \"\"\"Get the 3D surface profile of a bubble using its radius,\n",
    "    based on the equation of a sphere (x^2 + y^2 + z^2 = r^2).\"\"\"\n",
    "    # create 2D x-y grid\n",
    "    xgrid, ygrid = np.meshgrid(np.linspace(-rad, rad, num=1+2*rad),\n",
    "                               np.linspace(-rad, rad, num=1+2*rad))\n",
    "    # calculate value of 3D bubble surface based on equation of sphere\n",
    "    z = np.sqrt(np.square(rad)-np.square(xgrid)-np.square(ygrid))\n",
    "    # replace nan values with zeros\n",
    "    return np.nan_to_num(z)\n",
    "\n",
    "    \n",
    "def add_bubble_to_grid(grid, bub_profile, rad=10, cent=(0,0)):\n",
    "    \"\"\"Add profile of the bubble to a simulated grid of possible bubbles.\"\"\"\n",
    "    # get limits of pixel coordinates\n",
    "    xmax = len(grid[0])-1\n",
    "    ymax = len(grid)-1\n",
    "    # get slice indices of image which will be populated by bubble\n",
    "    x1, x2 = cent[0]-rad, cent[0]+rad+1\n",
    "    y1, y2 = cent[1]-rad, cent[1]+rad+1\n",
    "    # trim bubble and image indices if bubble extends outside image range\n",
    "    if x1 < 0:\n",
    "        bub_profile = bub_profile[:, -x1:]\n",
    "        x1 = 0\n",
    "    if x2 > xmax:\n",
    "        bub_profile = bub_profile[:, :-(x2-xmax)]\n",
    "        x2 = xmax\n",
    "    if y1 < 0:\n",
    "        bub_profile = bub_profile[-y1:]\n",
    "        y1 = 0\n",
    "    if y2 > ymax:\n",
    "        bub_profile = bub_profile[:-(y2-ymax)]\n",
    "        y2 = ymax\n",
    "    # add new bubble profile to existing grid\n",
    "    grid_new = np.zeros_like(grid)\n",
    "    grid_new[y1:y2, x1:x2] += bub_profile\n",
    "    return grid_new"
   ]
  },
  {
   "cell_type": "code",
   "execution_count": null,
   "metadata": {},
   "outputs": [],
   "source": []
  },
  {
   "cell_type": "code",
   "execution_count": 1,
   "metadata": {},
   "outputs": [
    {
     "ename": "NameError",
     "evalue": "name 'mod' is not defined",
     "output_type": "error",
     "traceback": [
      "\u001b[1;31m---------------------------------------------------------------------------\u001b[0m",
      "\u001b[1;31mNameError\u001b[0m                                 Traceback (most recent call last)",
      "\u001b[1;32m<ipython-input-1-35e23e581264>\u001b[0m in \u001b[0;36m<module>\u001b[1;34m\u001b[0m\n\u001b[1;32m----> 1\u001b[1;33m \u001b[0mmod\u001b[0m\u001b[1;33m\u001b[0m\u001b[1;33m\u001b[0m\u001b[0m\n\u001b[0m",
      "\u001b[1;31mNameError\u001b[0m: name 'mod' is not defined"
     ]
    }
   ],
   "source": []
  },
  {
   "cell_type": "markdown",
   "metadata": {},
   "source": [
    "## Read models and reconstruct simulated channels"
   ]
  },
  {
   "cell_type": "code",
   "execution_count": null,
   "metadata": {},
   "outputs": [],
   "source": [
    "def remove_axis_backgrounds(ax, grid=True):\n",
    "    \"\"\"Takes matplotlib 3D axis and removes colored plane backgrounds.\n",
    "    Also turns on or off the gridlines in 3D plot.\"\"\"\n",
    "    if grid is False:\n",
    "        ax.grid(b=None)\n",
    "    # remove colored axes planes\n",
    "    ax.xaxis.pane.fill = False\n",
    "    ax.yaxis.pane.fill = False\n",
    "    ax.zaxis.pane.fill = False\n",
    "    # set axis plane color to white\n",
    "    ax.xaxis.pane.set_edgecolor('w')\n",
    "    ax.yaxis.pane.set_edgecolor('w')\n",
    "    ax.zaxis.pane.set_edgecolor('w')"
   ]
  },
  {
   "cell_type": "code",
   "execution_count": null,
   "metadata": {
    "colab": {},
    "colab_type": "code",
    "id": "YWJl-IwCeFlJ"
   },
   "outputs": [],
   "source": [
    "# load dictionary from json file\n",
    "\n",
    "for model in all_models:\n",
    "    \n",
    "    \n",
    "    m = np.load(model, allow_pickle=True)[()]\n",
    "    \n",
    "    r = np.array(m['rad'])\n",
    "    x0 = np.array(m['cent'])[:, 0]\n",
    "    y0 = np.array(m['cent'])[:, 1]\n",
    "    #z0 = np.zeros_like(m['rad'])\n",
    "    \n",
    "    print('\\n =====================================================')\n",
    "    print(m['label'])\n",
    "    \n",
    "    plot_channel_image(m['img_raw'])\n",
    "    \n",
    "    \n",
    "    plt.scatter(x0, y0, marker='o', s=r)\n",
    "    plot_setup(title=m['label'], labels=['X position', 'Y position'])\n",
    "\n",
    "    plt.show()\n",
    "\n",
    "    \n",
    "    '''\n",
    "\n",
    "    fig = plt.figure()\n",
    "    #fig.set_size_inches(12, 4)\n",
    "    #fig.tight_layout()\n",
    "    ax = fig.gca(projection='3d')\n",
    "    #ax.set_aspect(\"equal\")\n",
    "    #ax.auto_scale_xyz([0, 500], [0, 500], [0, 100]\n",
    "    u, v = np.mgrid[0:2*np.pi:5j, 0:np.pi:5j]\n",
    "\n",
    "    for i in range(len(r)):\n",
    "\n",
    "        # draw sphere\n",
    "        x = r[i]*np.cos(u)*np.sin(v)+x0[i]\n",
    "        y = r[i]*np.sin(u)*np.sin(v)+y0[i]\n",
    "        z = r[i]*np.cos(v)+z0[i]\n",
    "        ax.plot_surface(x, y, z, color='gray')#, alpha=0.5)\n",
    "    \n",
    "    # create cubic bounding box to simulate equal aspect ratio\n",
    "    max_range = np.array([x0.max()-x0.min(), y0.max()-y0.min(), z0.max()-z0.min()]).max()\n",
    "    Xb = 0.5*max_range*np.mgrid[-1:2:2,-1:2:2,-1:2:2][0].flatten() + 0.5*(x0.max()+x0.min())\n",
    "    Yb = 0.5*max_range*np.mgrid[-1:2:2,-1:2:2,-1:2:2][1].flatten() + 0.5*(y0.max()+y0.min())\n",
    "    Zb = 0.5*max_range*np.mgrid[-1:2:2,-1:2:2,-1:2:2][2].flatten() + 0.5*(z0.max()+z0.min())\n",
    "    # Comment or uncomment following both lines to test the fake bounding box:\n",
    "    for xb, yb, zb in zip(Xb, Yb, Zb):\n",
    "       ax.plot([xb], [yb], [zb], 'w')\n",
    "\n",
    "\n",
    "    remove_axis_backgrounds(ax)\n",
    "    ax.set_xlabel('X')\n",
    "    ax.set_ylabel('Y')\n",
    "    ax.set_zlabel('Z')\n",
    "\n",
    "    '''\n"
   ]
  },
  {
   "cell_type": "code",
   "execution_count": null,
   "metadata": {
    "colab": {
     "base_uri": "https://localhost:8080/",
     "height": 54
    },
    "colab_type": "code",
    "id": "0qcBKhJxkLRB",
    "outputId": "873707a0-9fcd-4b74-802e-99ee14db564c"
   },
   "outputs": [],
   "source": []
  },
  {
   "cell_type": "code",
   "execution_count": null,
   "metadata": {
    "colab": {},
    "colab_type": "code",
    "id": "EIkThfhZB_3_"
   },
   "outputs": [],
   "source": []
  },
  {
   "cell_type": "markdown",
   "metadata": {
    "colab_type": "text",
    "id": "C61njWxztTJx"
   },
   "source": [
    "## Examine statistics of bubble distribution"
   ]
  },
  {
   "cell_type": "code",
   "execution_count": null,
   "metadata": {
    "colab": {},
    "colab_type": "code",
    "id": "zT8pvqAJtyB5"
   },
   "outputs": [],
   "source": [
    "\n",
    "def reconstruct_image(sim):\n",
    "    # loop over every bubble and reconstruct the image\n",
    "    reconstructed_img = np.zeros_like(sim['img'])\n",
    "    for i in range(len(sim['rad'])):\n",
    "        cent = sim['cent'][i]\n",
    "        bub_profile = get_bubble_profile(\n",
    "            rad=sim['rad'][i]) / channel['d']\n",
    "        reconstructed_img = add_bubble_to_grid(\n",
    "            reconstructed_img,\n",
    "            bub_profile,\n",
    "            rad=sim['rad'][i],\n",
    "            cent=sim['cent'][i])\n",
    "    plot_channel_image(reconstructed_img, vmin=0, vmax=1)\n",
    "\n",
    "\n",
    "def get_stats(arr):\n",
    "    \"\"\"Return stats of an array in dictioary form.\"\"\"\n",
    "    d = {'min': np.min(arr), 'max': np.max(arr),\n",
    "         'mean': np.mean(arr), 'median': np.median(arr), 'std': np.std(arr)}\n",
    "    return d\n",
    "\n",
    "\n",
    "def simulation_report(sim):\n",
    "    \"\"\"Create histograms which summarize statistics of the simulation.\"\"\"\n",
    "    # plot histogram of bubble radii\n",
    "    d = get_stats(sim['rad'])\n",
    "    print('Radius statistics:')\n",
    "    [print('{}: {}'.format(key, val)) for key, val in d.items()]\n",
    "    plt.hist(sim['rad'], bins=60)\n",
    "    plot_setup(title='Distribution of bubble radii',\n",
    "            labels=['Radius (μm)', 'Frequency'], size=(5, 3))\n",
    "    plt.show()\n",
    "\n",
    "    # plot histogram of bubble center y-values\n",
    "    yvals = [pair[1] for pair in sim['cent']]\n",
    "    plot_setup(title='Bubble positions perpendicular to channel',\n",
    "            labels=['Position (μm)', 'Frequency'], size=(5, 3))\n",
    "    plt.hist(yvals, bins=60)\n",
    "    plt.show()\n",
    "    # plot histogram of bubble center x-values\n",
    "    xvals = [pair[0] for pair in sim['cent']]\n",
    "    plot_setup(title='Bubble positions parallel to channel',\n",
    "            labels=['Position (μm)', 'Frequency'], size=(5, 3))\n",
    "    plt.hist(xvals, bins=60)\n",
    "    plt.show()\n",
    "\n",
    "#simulation_report(sim)"
   ]
  },
  {
   "cell_type": "code",
   "execution_count": null,
   "metadata": {
    "colab": {},
    "colab_type": "code",
    "id": "BruiZ0U437wX"
   },
   "outputs": [],
   "source": []
  },
  {
   "cell_type": "code",
   "execution_count": null,
   "metadata": {
    "colab": {},
    "colab_type": "code",
    "id": "xO3V_f3jsVC2"
   },
   "outputs": [],
   "source": []
  }
 ],
 "metadata": {
  "colab": {
   "collapsed_sections": [],
   "machine_shape": "hm",
   "name": "refrigerant_channel_modeling.ipynb",
   "provenance": [],
   "toc_visible": true
  },
  "kernelspec": {
   "display_name": "Python 3",
   "language": "python",
   "name": "python3"
  },
  "language_info": {
   "codemirror_mode": {
    "name": "ipython",
    "version": 3
   },
   "file_extension": ".py",
   "mimetype": "text/x-python",
   "name": "python",
   "nbconvert_exporter": "python",
   "pygments_lexer": "ipython3",
   "version": "3.7.1"
  }
 },
 "nbformat": 4,
 "nbformat_minor": 1
}
