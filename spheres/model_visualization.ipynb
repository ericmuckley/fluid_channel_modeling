{
 "cells": [
  {
   "cell_type": "markdown",
   "metadata": {
    "colab_type": "text",
    "id": "IpRDnryKvic_"
   },
   "source": [
    "# Visualization of fluid channel models\n",
    "\n",
    "This notebook is designed for visualization of models of refrigerant\n",
    "flowing through a microfluidic channel.\n",
    "\n",
    "Created on Wed Mar 25 9:45:13 2020  \n",
    "author: ericmuckley@gmail.com\n",
    "\n",
    "Full repository can be viewed at  \n",
    "https://github.com/ericmuckley/fluid_channel_modeling"
   ]
  },
  {
   "cell_type": "code",
   "execution_count": 1,
   "metadata": {
    "colab": {},
    "colab_type": "code",
    "id": "wTrQVMlru_eG"
   },
   "outputs": [],
   "source": [
    "import os\n",
    "import numpy as np\n",
    "from glob import glob\n",
    "import matplotlib.pyplot as plt\n",
    "\n",
    "# change matplotlib settings to make plots look nicer\n",
    "plt.rcParams['xtick.labelsize'] = 18\n",
    "plt.rcParams['ytick.labelsize'] = 18\n",
    "plt.rcParams['axes.linewidth'] = 3\n",
    "plt.rcParams['xtick.minor.width'] = 3\n",
    "plt.rcParams['xtick.major.width'] = 3\n",
    "plt.rcParams['ytick.minor.width'] = 3\n",
    "plt.rcParams['ytick.major.width'] = 3"
   ]
  },
  {
   "cell_type": "markdown",
   "metadata": {
    "colab_type": "text",
    "id": "x1TI-fEhvHPu"
   },
   "source": [
    "### Get model list\n",
    "\n",
    "Here we get a list of all the model file names and load the model parameter file."
   ]
  },
  {
   "cell_type": "code",
   "execution_count": 2,
   "metadata": {
    "colab": {
     "base_uri": "https://localhost:8080/",
     "height": 544
    },
    "colab_type": "code",
    "id": "7AeYMo1PvF0O",
    "outputId": "79c64ad7-4878-440a-b553-90469075ad3e"
   },
   "outputs": [
    {
     "name": "stdout",
     "output_type": "stream",
     "text": [
      "Found 0 models:\n"
     ]
    },
    {
     "ename": "FileNotFoundError",
     "evalue": "[Errno 2] No such file or directory: 'C:\\\\Users\\\\Eric\\\\Documents\\\\GitHub\\\\fluid_channel_modeling\\\\spheres\\\\model_info.npy'",
     "output_type": "error",
     "traceback": [
      "\u001b[1;31m---------------------------------------------------------------------------\u001b[0m",
      "\u001b[1;31mFileNotFoundError\u001b[0m                         Traceback (most recent call last)",
      "\u001b[1;32m<ipython-input-2-85df0c5a980d>\u001b[0m in \u001b[0;36m<module>\u001b[1;34m\u001b[0m\n\u001b[0;32m      8\u001b[0m \u001b[1;31m# get model information file\u001b[0m\u001b[1;33m\u001b[0m\u001b[1;33m\u001b[0m\u001b[1;33m\u001b[0m\u001b[0m\n\u001b[0;32m      9\u001b[0m \u001b[0mmodel_info_path\u001b[0m \u001b[1;33m=\u001b[0m \u001b[0mos\u001b[0m\u001b[1;33m.\u001b[0m\u001b[0mpath\u001b[0m\u001b[1;33m.\u001b[0m\u001b[0mjoin\u001b[0m\u001b[1;33m(\u001b[0m\u001b[0mos\u001b[0m\u001b[1;33m.\u001b[0m\u001b[0mgetcwd\u001b[0m\u001b[1;33m(\u001b[0m\u001b[1;33m)\u001b[0m\u001b[1;33m,\u001b[0m \u001b[1;34m'model_info.npy'\u001b[0m\u001b[1;33m)\u001b[0m\u001b[1;33m\u001b[0m\u001b[1;33m\u001b[0m\u001b[0m\n\u001b[1;32m---> 10\u001b[1;33m \u001b[0mm_info\u001b[0m \u001b[1;33m=\u001b[0m \u001b[0mnp\u001b[0m\u001b[1;33m.\u001b[0m\u001b[0mload\u001b[0m\u001b[1;33m(\u001b[0m\u001b[0mmodel_info_path\u001b[0m\u001b[1;33m,\u001b[0m \u001b[0mallow_pickle\u001b[0m\u001b[1;33m=\u001b[0m\u001b[1;32mTrue\u001b[0m\u001b[1;33m)\u001b[0m\u001b[1;33m[\u001b[0m\u001b[1;33m(\u001b[0m\u001b[1;33m)\u001b[0m\u001b[1;33m]\u001b[0m\u001b[1;33m\u001b[0m\u001b[1;33m\u001b[0m\u001b[0m\n\u001b[0m\u001b[0;32m     11\u001b[0m \u001b[0mprint\u001b[0m\u001b[1;33m(\u001b[0m\u001b[1;34m'\\nModel info keys:'\u001b[0m\u001b[1;33m)\u001b[0m\u001b[1;33m\u001b[0m\u001b[1;33m\u001b[0m\u001b[0m\n\u001b[0;32m     12\u001b[0m \u001b[0mprint\u001b[0m\u001b[1;33m(\u001b[0m\u001b[0mlist\u001b[0m\u001b[1;33m(\u001b[0m\u001b[0mm_info\u001b[0m\u001b[1;33m)\u001b[0m\u001b[1;33m)\u001b[0m\u001b[1;33m\u001b[0m\u001b[1;33m\u001b[0m\u001b[0m\n",
      "\u001b[1;32m~\\Anaconda3\\lib\\site-packages\\numpy\\lib\\npyio.py\u001b[0m in \u001b[0;36mload\u001b[1;34m(file, mmap_mode, allow_pickle, fix_imports, encoding)\u001b[0m\n\u001b[0;32m    426\u001b[0m         \u001b[0mown_fid\u001b[0m \u001b[1;33m=\u001b[0m \u001b[1;32mFalse\u001b[0m\u001b[1;33m\u001b[0m\u001b[1;33m\u001b[0m\u001b[0m\n\u001b[0;32m    427\u001b[0m     \u001b[1;32melse\u001b[0m\u001b[1;33m:\u001b[0m\u001b[1;33m\u001b[0m\u001b[1;33m\u001b[0m\u001b[0m\n\u001b[1;32m--> 428\u001b[1;33m         \u001b[0mfid\u001b[0m \u001b[1;33m=\u001b[0m \u001b[0mopen\u001b[0m\u001b[1;33m(\u001b[0m\u001b[0mos_fspath\u001b[0m\u001b[1;33m(\u001b[0m\u001b[0mfile\u001b[0m\u001b[1;33m)\u001b[0m\u001b[1;33m,\u001b[0m \u001b[1;34m\"rb\"\u001b[0m\u001b[1;33m)\u001b[0m\u001b[1;33m\u001b[0m\u001b[1;33m\u001b[0m\u001b[0m\n\u001b[0m\u001b[0;32m    429\u001b[0m         \u001b[0mown_fid\u001b[0m \u001b[1;33m=\u001b[0m \u001b[1;32mTrue\u001b[0m\u001b[1;33m\u001b[0m\u001b[1;33m\u001b[0m\u001b[0m\n\u001b[0;32m    430\u001b[0m \u001b[1;33m\u001b[0m\u001b[0m\n",
      "\u001b[1;31mFileNotFoundError\u001b[0m: [Errno 2] No such file or directory: 'C:\\\\Users\\\\Eric\\\\Documents\\\\GitHub\\\\fluid_channel_modeling\\\\spheres\\\\model_info.npy'"
     ]
    }
   ],
   "source": [
    "# set path of folder which contains image files\n",
    "folder_path = os.path.join(os.getcwd(), 'spheres', 'models')\n",
    "all_models = [m for m in glob(folder_path+'/*') if '.npy' in m]\n",
    "print('Found {} models:'.format(len(all_models)))\n",
    "for m in all_models:\n",
    "    print(os.path.split(m)[1])\n",
    "\n",
    "# get model information file\n",
    "model_info_path = os.path.join(os.getcwd(), 'model_info.npy')\n",
    "m_info = np.load(model_info_path, allow_pickle=True)[()]\n",
    "print('\\nModel info keys:')\n",
    "print(list(m_info))"
   ]
  },
  {
   "cell_type": "markdown",
   "metadata": {
    "colab_type": "text",
    "id": "9TmeabtNwT4H"
   },
   "source": [
    "### Define some functions to use later"
   ]
  },
  {
   "cell_type": "code",
   "execution_count": null,
   "metadata": {
    "colab": {},
    "colab_type": "code",
    "id": "GTCQUGL6wea5"
   },
   "outputs": [],
   "source": [
    "def plot_setup(labels=['X', 'Y'], fsize=18, setlimits=False,\n",
    "               limits=[0,1,0,1], title='',\n",
    "               legend=False, save=False, filename='plot.jpg'):\n",
    "    \"\"\"Creates a custom plot configuration to make graphs look nice.\n",
    "    This can be called with matplotlib for setting axes labels,\n",
    "    titles, axes ranges, and the font size of plot labels.\n",
    "    This should be called between plt.plot() and plt.show() commands.\"\"\"\n",
    "    plt.xlabel(str(labels[0]), fontsize=fsize)\n",
    "    plt.ylabel(str(labels[1]), fontsize=fsize)\n",
    "    plt.title(title, fontsize=fsize)\n",
    "    fig = plt.gcf()\n",
    "    if legend:\n",
    "        plt.legend(fontsize=fsize-4)\n",
    "    if setlimits:\n",
    "        plt.xlim((limits[0], limits[1]))\n",
    "        plt.ylim((limits[2], limits[3]))\n",
    "    if save:\n",
    "        fig.savefig(filename, dpi=120, bbox_inches='tight')\n",
    "        plt.tight_layout()\n",
    "\n",
    "def plot_channel_image(image, title=None, vmin=0, vmax=1):\n",
    "    \"\"\"Plot image of the channel, colored by void fraction.\"\"\"\n",
    "    plt.imshow(image, origin='lower', cmap='jet', vmin=vmin, vmax=vmax, )\n",
    "    fig = plt.gcf()\n",
    "    fig.set_size_inches(11,11)\n",
    "    plt.axis('off')\n",
    "    if title is not None:\n",
    "        plt.title(title, fontsize=16)\n",
    "    plt.show()"
   ]
  },
  {
   "cell_type": "markdown",
   "metadata": {},
   "source": [
    "## Read and display models"
   ]
  },
  {
   "cell_type": "code",
   "execution_count": null,
   "metadata": {
    "colab": {},
    "colab_type": "code",
    "id": "YWJl-IwCeFlJ",
    "scrolled": false
   },
   "outputs": [],
   "source": [
    "# create dictionary to hold all model results\n",
    "r = {\n",
    "    'flowrate': [],\n",
    "    'label': [],\n",
    "    'rad': [],\n",
    "    'cent': [],\n",
    "    'temp': [],\n",
    "    'w_profiles': np.empty((int(m_info['w_um']/m_info['um_per_pixel']), 0)),\n",
    "    'h_profiles': np.empty((int(m_info['h_um']/m_info['um_per_pixel']), 0))}\n",
    "\n",
    "# loop over each model file\n",
    "for model in all_models:\n",
    "    \n",
    "    # load model dictionary from file \n",
    "    m = np.load(model, allow_pickle=True)[()]\n",
    "    # accumulate all data into dictionary\n",
    "    r['flowrate'].append(m['flowrate'])\n",
    "    r['label'].append(m['label'])\n",
    "    r['rad'].append(m['rad'])\n",
    "    r['cent'].append(m['cent'])\n",
    "    r['temp'].append(m['temp'])\n",
    "    \n",
    "    # get average void fraction profiles in width and height directions\n",
    "    r['h_profiles'] = np.column_stack((r['h_profiles'], np.mean(m['img_model'], axis=1)))\n",
    "    r['w_profiles'] = np.column_stack((r['w_profiles'], np.mean(m['img_model'], axis=0)))\n",
    "    \n",
    "    # plot original image and modeled image\n",
    "    print(m['label'])\n",
    "    print('temp: {}'.format(m['temp']))\n",
    "    print('flowrate: {}'.format(m['flowrate']))\n",
    "    print('total simulated bubbles: {}'.format(len(m['rad'])))\n",
    "    print('model error (%): {}'.format(round(m['percent_error'], 2)))\n",
    "    plot_channel_image(m['img_voidfrac'],\n",
    "                       title='Measured image '+ m['label'],\n",
    "                       vmax=m_info['d_um'])\n",
    "    plot_channel_image(m['img_model'],\n",
    "                       title='Model '+ m['label'],\n",
    "                       vmax=m_info['d_um'])\n",
    "    print('==========================================================\\n\\n')"
   ]
  },
  {
   "cell_type": "markdown",
   "metadata": {},
   "source": [
    "## Plot model statistics"
   ]
  },
  {
   "cell_type": "code",
   "execution_count": null,
   "metadata": {
    "scrolled": false
   },
   "outputs": [],
   "source": [
    "# plot mean bubble radii across all models\n",
    "mean_rad = np.array([np.mean(i) for i in r['rad']])*m_info['um_per_pixel']\n",
    "plt.plot(r['temp'], mean_rad, marker='o')\n",
    "plot_setup(title='Mean bubble radius per model',\n",
    "           labels=['Temperature (C)', 'Mean bubble radius (μm)'])\n",
    "plt.show()\n",
    "\n",
    "# plot total bubbles across all models\n",
    "tot_bubs = [len(i) for i in r['rad']]\n",
    "plt.plot(r['temp'], tot_bubs, marker='o')\n",
    "plot_setup(title='Total bubbles per model',\n",
    "           labels=['Temperature (C)', 'Number of bubbles'])\n",
    "plt.show()\n",
    "\n",
    "\n",
    "# plot void fraction profiles across height of channel\n",
    "for p in range(len(r['h_profiles'][0])):\n",
    "    plt.plot(r['h_profiles'][:, p], label=r['temp'][p])\n",
    "plot_setup(title='Avg. profile across channel height by temp.',\n",
    "           labels=['Distance', 'Void fraction'])\n",
    "plt.legend()\n",
    "plt.show()\n",
    "\n",
    "# plot void fraction profiles across width of channel\n",
    "for p in range(len(r['w_profiles'][0])):\n",
    "    plt.plot(r['w_profiles'][:, p], label=r['temp'][p])\n",
    "plot_setup(title='Avg. profile across channel weight by temp.',\n",
    "           labels=['Distance', 'Void fraction'])\n",
    "plt.legend()\n",
    "plt.show()\n",
    "\n",
    "\n",
    "# plot histogram of bubble radius distribution\n",
    "for i in range(len(r['rad'])):\n",
    "    radii_hist, radii_hist_bins = np.histogram(r['rad'][i], bins=100)\n",
    "    bincenters = 0.5*(radii_hist_bins[1:] + radii_hist_bins[:-1]) * m_info['um_per_pixel']\n",
    "    plt.plot(bincenters, radii_hist, label=r['temp'][i])\n",
    "plot_setup(title='Histogram of bubble radii by temp.', labels=['Radius (μm)', 'Frequency'])\n",
    "plt.yscale('log')\n",
    "plt.legend()\n",
    "plt.show()"
   ]
  },
  {
   "cell_type": "markdown",
   "metadata": {},
   "source": [
    "## Testing physical relevance of bubble configuration\n",
    "\n",
    "Use this equality to test physical relevance of bubble configuration\n",
    "by considering curvature (2 / bubble radius) and the gradient of the\n",
    "void fraction (a).\n",
    "\n",
    "2/radius = divergence(gradient(a)/norm(gradient(a)))\n",
    "\n",
    "\n",
    "κ=∇.(∇α/|∇α| )\n",
    "\n",
    "α is the void fraction\n",
    "κ is the curvature\n",
    "∇ is the gradient operator\n",
    "∇. is the divergence\n",
    "\n",
    "Test this on the flows\n",
    "We know κ = 2/R where R is the radius of the bubble. "
   ]
  },
  {
   "cell_type": "code",
   "execution_count": null,
   "metadata": {},
   "outputs": [],
   "source": [
    "# loop over each model file\n",
    "for model in all_models:\n",
    "    \n",
    "    # load model dictionary from file \n",
    "    m = np.load(model, allow_pickle=True)[()]\n",
    "    \n",
    "    print(m['label'])\n",
    "    \n",
    "    plot_channel_image(m['img_model'], vmax=m_info['d_um'])\n",
    "    tot_grad = np.gradient(m['img_model'])\n",
    "    grad_x = tot_grad[1]\n",
    "    plot_channel_image(grad_x, title='grad x', vmin=None, vmax=None)\n",
    "    grad_y = tot_grad[0]\n",
    "    plot_channel_image(grad_y, title='grad y', vmin=None, vmax=None)\n",
    "    print(grad_x.shape, grad_y.shape)\n",
    "    print('=====================================================\\n\\n')"
   ]
  }
 ],
 "metadata": {
  "colab": {
   "collapsed_sections": [],
   "machine_shape": "hm",
   "name": "refrigerant_channel_modeling.ipynb",
   "provenance": [],
   "toc_visible": true
  },
  "kernelspec": {
   "display_name": "Python 3",
   "language": "python",
   "name": "python3"
  },
  "language_info": {
   "codemirror_mode": {
    "name": "ipython",
    "version": 3
   },
   "file_extension": ".py",
   "mimetype": "text/x-python",
   "name": "python",
   "nbconvert_exporter": "python",
   "pygments_lexer": "ipython3",
   "version": "3.7.1"
  }
 },
 "nbformat": 4,
 "nbformat_minor": 1
}
