{
 "cells": [
  {
   "cell_type": "markdown",
   "metadata": {
    "colab_type": "text",
    "id": "IpRDnryKvic_"
   },
   "source": [
    "# Modeling void fraction in fluid channel using cross-sectional disks\n",
    "\n",
    "This notebook is designed for analysis of neutron data\n",
    "which describes void fraction of refrigerant\n",
    "flowing through a microfluidic channel.\n",
    "\n",
    "Created on Thu Feb 13 10:33:13 2020  \n",
    "author: ericmuckley@gmail.com\n",
    "\n",
    "Full repository can be viewed at  \n",
    "https://github.com/ericmuckley/fluid_channel_modeling"
   ]
  },
  {
   "cell_type": "code",
   "execution_count": 1,
   "metadata": {
    "colab": {},
    "colab_type": "code",
    "id": "wTrQVMlru_eG"
   },
   "outputs": [],
   "source": [
    "import os\n",
    "import cv2\n",
    "import numpy as np\n",
    "from glob import glob\n",
    "from time import time\n",
    "\n",
    "import matplotlib.pyplot as plt\n",
    "from matplotlib import patches\n",
    "\n",
    "from scipy.optimize import curve_fit\n",
    "\n",
    "from scipy.interpolate import splrep\n",
    "from scipy.interpolate import splev\n",
    "\n",
    "# change matplotlib settings to make plots look nicer\n",
    "plt.rcParams['xtick.labelsize'] = 18\n",
    "plt.rcParams['ytick.labelsize'] = 18\n",
    "plt.rcParams['axes.linewidth'] = 3\n",
    "plt.rcParams['xtick.minor.width'] = 3\n",
    "plt.rcParams['xtick.major.width'] = 3\n",
    "plt.rcParams['ytick.minor.width'] = 3\n",
    "plt.rcParams['ytick.major.width'] = 3\n",
    "\n",
    "def plot_setup(labels=['X', 'Y'], fsize=18, title='', size=None):\n",
    "    \"\"\"Creates a custom plot configuration to make graphs look nice.\n",
    "    This should be called between plt.plot() and plt.show() commands.\"\"\"\n",
    "    plt.xlabel(str(labels[0]), fontsize=fsize)\n",
    "    plt.ylabel(str(labels[1]), fontsize=fsize)\n",
    "    plt.title(title, fontsize=fsize)\n",
    "\n",
    "def plot_channel_image(image, title=None, vmin=None, vmax=None):\n",
    "    \"\"\"Plot image of the channel, colored by void fraction.\"\"\"\n",
    "    plt.imshow(image, origin='lower', cmap='jet', vmin=vmin, vmax=vmax, )\n",
    "    fig = plt.gcf()\n",
    "    fig.set_size_inches(11,11)\n",
    "    plt.axis('off')\n",
    "    if title is not None:\n",
    "        plt.title(title, fontsize=16)\n",
    "    plt.show()\n",
    "\n",
    "def get_channel(channel_shape):\n",
    "    \"\"\"Return list of all index coordinates of the empty channel.\"\"\"\n",
    "    # get list of ordered pairs of channel index coordinates\n",
    "    yy_channel, xx_channel = np.indices(channel_shape)\n",
    "    channel_coords = np.column_stack(\n",
    "        (np.ravel(xx_channel), np.ravel(yy_channel)))\n",
    "    return channel_coords\n",
    "\n",
    "def get_bubbles(model_info, channel):\n",
    "    \"\"\"Get random bubble radii and center coordinates.\"\"\"\n",
    "    # get number of bubbles and radii limits\n",
    "    num = model_info['num_of_bubbles_to_try']\n",
    "    min_rad = model_info['min_rad_um']/model_info['um_per_pixel'],\n",
    "    max_rad = model_info['max_rad_um']/model_info['um_per_pixel']\n",
    "    # get random radii and sort from large to small\n",
    "    rad_list = np.random.uniform(min_rad, max_rad, num)\n",
    "    rad_list = np.clip(rad_list, min_rad, max_rad)\n",
    "    rad_list = np.sort(rad_list)[::-1]\n",
    "    # get random x- and y-positions within the channel\n",
    "    x_list = np.random.uniform(0, len(channel[0]), num)\n",
    "    y_list = np.random.uniform(0, len(channel), num)\n",
    "    return {\n",
    "        'rad': rad_list,\n",
    "        'rad_squared': np.square(rad_list),\n",
    "        'x': x_list,\n",
    "        'y': y_list}\n",
    "\n",
    "def ellipse_integral(x, c, w, h):\n",
    "    \"\"\"\n",
    "    Get intetral of ellipse across 'x' range, with center at 'c',\n",
    "    width 'w', and height 'h'.\n",
    "    \"\"\"\n",
    "    y = h * np.sqrt(1 - np.square(x-c)/np.square(w/2))\n",
    "    return np.nan_to_num(y)\n",
    "\n",
    "\n",
    "def single_cross_sec_ellipse(x, c, rx, ry):\n",
    "    \"\"\"\n",
    "    Create a disk-like cross-section of an ellipse\n",
    "    when viewed from its side. This is equivalent to finding\n",
    "    the void fraction of an ellipse-shaped disk of vapor when\n",
    "    viewed from its side, i.e. a cross-section of a bubble.\n",
    "    x = x-coordinates\n",
    "    c = center x-coordinate\n",
    "    rx = radius in x-direction\n",
    "    ry = radius in y-direction\n",
    "    \"\"\"\n",
    "    y = 2* ry * np.sqrt(1 - np.square(x-c)/np.square(rx))\n",
    "    return np.nan_to_num(y)\n",
    "\n",
    "def multi_cross_sec_ellipse(x, *params):\n",
    "    \"\"\"\n",
    "    This is the same function as 'single_cross_sec'\n",
    "    but allows for fitting of multiple crosssections at once.\n",
    "    The number of params varies based on the number of cross\n",
    "    sections to fit.\n",
    "    \"\"\"\n",
    "    y = np.zeros_like(x, dtype='float')\n",
    "    for i in range(0, len(params), 3):\n",
    "        c = params[i]\n",
    "        rx = params[i+1]\n",
    "        ry = params[i+2]\n",
    "        new_profile = 2*ry*np.sqrt(1-np.square(x-c)/np.square(rx))\n",
    "        y += np.nan_to_num(y + new_profile)\n",
    "    return y\n",
    "\n",
    "def resample(arr, new_len=100, new_xlims=None, vec_scale='lin', k=2, s=0):\n",
    "    \"\"\"\n",
    "    Resamples (stetches/compresses) a 2D array by using a spline fit.\n",
    "    Array should be shape [[x1, y1, ...ym], ...[xn, yn, ...yn]] where the\n",
    "    # first column in array is x-values and following next columns are\n",
    "    y values. If no x values exist, insert column np.arange(len(arr))\n",
    "    as x values.Accepts linear or log x-values, and new x_limits.\n",
    "    k and s are degree and smoothing factor of the interpolation spline.\n",
    "    \"\"\"\n",
    "    # check whether array should be resampled using linear or log scale\n",
    "    new_scale = np.geomspace if vec_scale == 'log' else np.linspace\n",
    "\n",
    "    # get new x-limits for the resampled array\n",
    "    if new_xlims is None:\n",
    "        new_x1, new_x2 = arr[0, 0], arr[-1, 0]\n",
    "    else:\n",
    "        new_x1, new_x2 = new_xlims[0], new_xlims[1]\n",
    "    # create new x values\n",
    "    arrx = new_scale(new_x1, new_x2, new_len)\n",
    "    # create new empty array to hold resampled values\n",
    "    stretched_array = np.zeros((new_len, len(arr[0])))\n",
    "    stretched_array[:, 0] = arrx \n",
    "    # for each y-column, calculate parameters of degree-3 spline fit\n",
    "    for col in range(1, len(arr[0])):\n",
    "        spline_params = splrep(arr[:, 0], arr[:, col], k=int(k), s=s)\n",
    "        # calculate spline at new x values\n",
    "        arry = splev(arrx, spline_params)\n",
    "        # populate stretched data into resampled array\n",
    "        stretched_array[:, col] = arry\n",
    "    return stretched_array"
   ]
  },
  {
   "cell_type": "markdown",
   "metadata": {
    "colab_type": "text",
    "id": "x1TI-fEhvHPu"
   },
   "source": [
    "## Get image list\n",
    "\n",
    "Get list of all images which we will model."
   ]
  },
  {
   "cell_type": "code",
   "execution_count": 2,
   "metadata": {},
   "outputs": [
    {
     "name": "stdout",
     "output_type": "stream",
     "text": [
      "['w_um', 'h_um', 'd_um', 'um_per_pixel', 'buffer_um', 'min_rad_um', 'max_rad_um', 'channels']\n"
     ]
    }
   ],
   "source": [
    "# navigate to data folder\n",
    "data_path = os.path.join(os.getcwd(), 'data', 'compiled_data.npy')\n",
    "\n",
    "data = np.load(data_path, allow_pickle=True)[()]\n",
    "print(list(data))"
   ]
  },
  {
   "cell_type": "markdown",
   "metadata": {},
   "source": [
    "## Do something\n",
    "\n"
   ]
  },
  {
   "cell_type": "code",
   "execution_count": 3,
   "metadata": {},
   "outputs": [
    {
     "name": "stdout",
     "output_type": "stream",
     "text": [
      "(11, 344)\n",
      "(11, 344)\n",
      "(11, 344)\n",
      "(11, 344)\n",
      "(11, 344)\n",
      "(11, 344)\n",
      "(11, 344)\n",
      "(11, 344)\n",
      "(11, 344)\n",
      "(11, 344)\n",
      "(11, 344)\n",
      "(11, 344)\n",
      "(11, 344)\n",
      "(11, 344)\n",
      "(11, 344)\n",
      "(11, 344)\n",
      "(11, 344)\n"
     ]
    }
   ],
   "source": [
    "# loop over each image\n",
    "for L in data['channels']:\n",
    "    img = data['channels'][L]['img_voidfrac']\n",
    "    print(img.shape)"
   ]
  },
  {
   "cell_type": "code",
   "execution_count": 4,
   "metadata": {},
   "outputs": [
    {
     "data": {
      "image/png": "[encoded data removed]",
      "text/plain": [
       "<Figure size 792x792 with 1 Axes>"
      ]
     },
     "metadata": {
      "needs_background": "light"
     },
     "output_type": "display_data"
    }
   ],
   "source": [
    "plot_channel_image(img, title='Void fraction: {}'.format(L))\n"
   ]
  },
  {
   "cell_type": "code",
   "execution_count": 5,
   "metadata": {},
   "outputs": [
    {
     "name": "stderr",
     "output_type": "stream",
     "text": [
      "C:\\Users\\Eric\\Anaconda3\\lib\\site-packages\\ipykernel_launcher.py:103: RuntimeWarning: invalid value encountered in sqrt\n"
     ]
    },
    {
     "data": {
      "image/png": "[encoded data removed]",
      "text/plain": [
       "<Figure size 432x288 with 1 Axes>"
      ]
     },
     "metadata": {
      "needs_background": "light"
     },
     "output_type": "display_data"
    }
   ],
   "source": [
    "\n",
    "x = np.arange(100)-50\n",
    "y = multi_cross_sec_ellipse(x, 20, 9, 4, 60, 4, 5)\n",
    "plt.plot(x,y)\n",
    "plt.show()\n"
   ]
  },
  {
   "cell_type": "code",
   "execution_count": 6,
   "metadata": {},
   "outputs": [
    {
     "name": "stderr",
     "output_type": "stream",
     "text": [
      "C:\\Users\\Eric\\Anaconda3\\lib\\site-packages\\ipykernel_launcher.py:103: RuntimeWarning: invalid value encountered in sqrt\n",
      "C:\\Users\\Eric\\Anaconda3\\lib\\site-packages\\ipykernel_launcher.py:103: RuntimeWarning: invalid value encountered in sqrt\n",
      "C:\\Users\\Eric\\Anaconda3\\lib\\site-packages\\ipykernel_launcher.py:103: RuntimeWarning: invalid value encountered in sqrt\n",
      "C:\\Users\\Eric\\Anaconda3\\lib\\site-packages\\ipykernel_launcher.py:103: RuntimeWarning: invalid value encountered in sqrt\n",
      "C:\\Users\\Eric\\Anaconda3\\lib\\site-packages\\ipykernel_launcher.py:103: RuntimeWarning: invalid value encountered in sqrt\n"
     ]
    },
    {
     "data": {
      "image/png": "[encoded data removed]",
      "text/plain": [
       "<Figure size 432x288 with 1 Axes>"
      ]
     },
     "metadata": {
      "needs_background": "light"
     },
     "output_type": "display_data"
    }
   ],
   "source": [
    "def get_guess(x, y, n):\n",
    "    \"\"\"\n",
    "    Get initial guess for fitting void fraction\n",
    "    profile to multiple ellipsoidal discs. A guess is\n",
    "    required for multi-peak fitting so that the number of\n",
    "    fit parameters remained fixed. \n",
    "    \"\"\"\n",
    "    guess = []\n",
    "    low_bounds = []\n",
    "    high_bounds = []\n",
    "    center_increment = (np.max(x)-np.min(x))/n\n",
    "    \n",
    "    for g in range(n):\n",
    "        guess += [\n",
    "            center_increment*(g+1), # center x-coordinate\n",
    "            (np.max(x)-np.min(x))/(2*n), # x-radius\n",
    "            np.mean(y)/2] # y-radius\n",
    "        low_bounds += []\n",
    "        high_bounds += []\n",
    "    return guess, (low_bounds, high_bounds)\n",
    "\n",
    "for i in range(1):\n",
    "    \n",
    "    profile = resample(np.column_stack((np.arange(img.shape[0]), img[:, i]/250)))\n",
    "    #profile[:, 1] -= np.min(profile[:, 1])\n",
    "    \n",
    "    plt.scatter(profile[:, 0], profile[:, 1], alpha=0.3, s=10, c='k')\n",
    "\n",
    "    guess, bounds = get_guess(profile[:, 0], profile[:, 1], 4)\n",
    "    '''\n",
    "    guess = [5, 2, 0.3,\n",
    "             1.5, 2, 0.3,\n",
    "             9, 2, 0.3,\n",
    "             7, 2, 0.3,\n",
    "             3, 2, 0.3]\n",
    "    '''\n",
    "    \n",
    "    popt, _ = curve_fit(multi_cross_sec_ellipse, profile[:, 0], profile[:, 1], p0=guess)\n",
    "    fit = multi_cross_sec_ellipse(profile[:, 0], *popt)\n",
    "    \n",
    "    plt.plot(profile[:, 0], fit, c='k')\n",
    "\n",
    "    \n",
    "    for p in range(0, len(popt), 3):\n",
    "        fit0 = multi_cross_sec_ellipse(profile[:, 0], *popt[p:p+3])\n",
    "        plt.plot(profile[:, 0], fit0)\n",
    "        \n",
    "plt.show()"
   ]
  },
  {
   "cell_type": "code",
   "execution_count": 7,
   "metadata": {},
   "outputs": [
    {
     "data": {
      "text/plain": [
       "array([1.33880775, 2.43320149, 0.33577056, 5.15920362, 1.5866832 ,\n",
       "       0.31574635, 7.99269085, 1.42703461, 0.33064468, 9.83404282,\n",
       "       0.55720488, 0.36704807])"
      ]
     },
     "execution_count": 7,
     "metadata": {},
     "output_type": "execute_result"
    }
   ],
   "source": [
    "popt"
   ]
  },
  {
   "cell_type": "markdown",
   "metadata": {},
   "source": [
    "## Add elipses to channel cross section"
   ]
  },
  {
   "cell_type": "code",
   "execution_count": 8,
   "metadata": {},
   "outputs": [
    {
     "data": {
      "image/png": "[encoded data removed]",
      "text/plain": [
       "<Figure size 144x432 with 1 Axes>"
      ]
     },
     "metadata": {
      "needs_background": "light"
     },
     "output_type": "display_data"
    },
    {
     "data": {
      "image/png": "[encoded data removed]",
      "text/plain": [
       "<Figure size 432x288 with 1 Axes>"
      ]
     },
     "metadata": {
      "needs_background": "light"
     },
     "output_type": "display_data"
    }
   ],
   "source": [
    "\n",
    "# use this to reample the cross section for higher resolution\n",
    "#cs = resample(np.column_stack((np.arange(img.shape[0]), img[:,i])))\n",
    "cs = np.column_stack((np.arange(img.shape[0]), img[:,i]))\n",
    "\n",
    "# create dictionary for elliptical bubble dimensions (center, width, height)\n",
    "# the initial bubble is created as large as possible to fit inside measured cross section\n",
    "bub = {\n",
    "    'c': [[np.max(cs[:,0])/2, np.min(cs[:,1])/2]],\n",
    "    'w': [np.max(cs[:,0])],\n",
    "    'h': [np.min(cs[:,1])]}\n",
    "\n",
    "\n",
    "# add void fraction cross section to plot\n",
    "fig, ax = plt.subplots()\n",
    "ax.plot(cs[:,0], cs[:,1], lw=2, c='k', label='measured')\n",
    "\n",
    "# create simulated cross section to hold ellipse cross sections and plot it\n",
    "sim_cs = ellipse_integral(cs[:,0], bub['c'][0][0], bub['w'][0], bub['h'][0])\n",
    "ax.add_patch(patches.Ellipse(bub['c'][0], bub['w'][0], bub['h'][0], alpha=0.2))\n",
    "ax.scatter(*bub['c'][0], marker='+', s=80, c='b')\n",
    "\n",
    "residual = np.column_stack((cs[:, 0], cs[:,1]-sim_cs))\n",
    "\n",
    "# create new bubbles\n",
    "for c in range(1,1):\n",
    "    \n",
    "    # calculate residual between measured and simulated cross sections\n",
    "    residual = np.column_stack((cs[:, 0], cs[:,1]-sim_cs))\n",
    "    \n",
    "    \n",
    "    new_c, new_w, new_h = [8, 135], 2, 30\n",
    "\n",
    "    bub['c'].append(new_c)\n",
    "    bub['w'].append(new_w)\n",
    "    bub['h'].append(new_h)\n",
    "    \n",
    "    # add ellipse cross section to total simulated cross section and plot\n",
    "    sim_cs += ellipse_integral(cs[:,0], bub['c'][c][0], bub['w'][c], bub['h'][c])\n",
    "    ellipse = patches.Ellipse(bub['c'][c], bub['w'][c], bub['h'][c], alpha=0.2)\n",
    "    ax.add_patch(ellipse)\n",
    "    ax.scatter(*bub['c'][c], marker='+', s=80, c='b')\n",
    "    \n",
    "# plot simulated void fraction cross section\n",
    "ax.plot(cs[:, 0], sim_cs, c='r', linestyle='--', label='simulated')\n",
    "\n",
    "plt.xlim([cs[0,0], cs[-1,0]])\n",
    "plt.ylim([0, data['d_um']])\n",
    "fig.set_size_inches(2, 6)\n",
    "plt.legend()\n",
    "plt.show()\n",
    "\n",
    "# plot difference in \n",
    "plt.plot(cs[:,0], cs[:,1] - sim_cs)\n",
    "plt.show()"
   ]
  },
  {
   "cell_type": "code",
   "execution_count": 9,
   "metadata": {},
   "outputs": [
    {
     "name": "stdout",
     "output_type": "stream",
     "text": [
      "X EQUALS 1.0\n",
      "0.0\n",
      "9.433551198257081\n",
      "18.867102396514163\n",
      "28.300653594771244\n",
      "37.734204793028326\n",
      "47.167755991285404\n",
      "56.60130718954249\n",
      "66.03485838779957\n",
      "75.46840958605665\n",
      "84.90196078431373\n",
      "X EQUALS 2.0\n",
      "0.0\n",
      "5.642701525054466\n",
      "11.285403050108933\n",
      "16.9281045751634\n",
      "22.570806100217865\n",
      "28.21350762527233\n",
      "33.8562091503268\n",
      "39.49891067538127\n",
      "45.14161220043573\n",
      "50.78431372549019\n",
      "X EQUALS 3.0\n",
      "0.0\n",
      "2.761669146524527\n",
      "5.523338293049054\n",
      "8.285007439573581\n",
      "11.046676586098108\n",
      "13.808345732622636\n",
      "16.570014879147163\n",
      "19.33168402567169\n",
      "22.093353172196217\n",
      "24.855022318720742\n",
      "X EQUALS 4.0\n",
      "0.0\n",
      "0.2729094507575572\n",
      "0.5458189015151144\n",
      "0.8187283522726716\n",
      "1.0916378030302287\n",
      "1.3645472537877859\n",
      "1.6374567045453432\n",
      "1.9103661553029003\n",
      "2.1832756060604575\n",
      "2.456185056818015\n",
      "X EQUALS 5.0\n",
      "0.0\n",
      "2.6143790849673234\n",
      "5.228758169934647\n",
      "7.84313725490197\n",
      "10.457516339869294\n",
      "13.071895424836617\n",
      "15.68627450980394\n",
      "18.300653594771262\n",
      "20.915032679738587\n",
      "23.529411764705912\n",
      "X EQUALS 6.0\n",
      "0.0\n",
      "2.8872885357248808\n",
      "5.7745770714497615\n",
      "8.661865607174642\n",
      "11.549154142899523\n",
      "14.436442678624404\n",
      "17.323731214349284\n",
      "20.211019750074165\n",
      "23.098308285799046\n",
      "25.985596821523927\n",
      "X EQUALS 7.0\n",
      "0.0\n",
      "2.761669146524527\n",
      "5.523338293049054\n",
      "8.285007439573581\n",
      "11.046676586098108\n",
      "13.808345732622636\n",
      "16.570014879147163\n",
      "19.33168402567169\n",
      "22.093353172196217\n",
      "24.855022318720742\n",
      "X EQUALS 8.0\n",
      "0.0\n",
      "5.206971677559911\n",
      "10.413943355119821\n",
      "15.620915032679733\n",
      "20.827886710239643\n",
      "26.034858387799552\n",
      "31.241830065359466\n",
      "36.44880174291937\n",
      "41.655773420479285\n",
      "46.8627450980392\n",
      "X EQUALS 9.0\n",
      "0.0\n",
      "9.869281045751636\n",
      "19.738562091503272\n",
      "29.60784313725491\n",
      "39.477124183006545\n",
      "49.34640522875818\n",
      "59.21568627450982\n",
      "69.08496732026146\n",
      "78.95424836601309\n",
      "88.82352941176472\n"
     ]
    },
    {
     "data": {
      "image/png": "[encoded data removed]",
      "text/plain": [
       "<Figure size 432x288 with 1 Axes>"
      ]
     },
     "metadata": {
      "needs_background": "light"
     },
     "output_type": "display_data"
    }
   ],
   "source": [
    "# loop over possible horizontal values\n",
    "for xi in range(1, len(residual)-1):\n",
    "    \n",
    "    x = residual[xi,0]\n",
    "    print('X EQUALS {}'.format(x))\n",
    "    for y in np.linspace(0, residual[xi,1], num=10):\n",
    "        print(y)\n",
    "\n",
    "\n",
    "# plot residual\n",
    "plt.plot(cs[:,0], cs[:,1] - sim_cs)\n",
    "plt.show()"
   ]
  },
  {
   "cell_type": "code",
   "execution_count": 10,
   "metadata": {},
   "outputs": [
    {
     "data": {
      "image/png": "[encoded data removed]",
      "text/plain": [
       "<Figure size 432x288 with 1 Axes>"
      ]
     },
     "metadata": {
      "needs_background": "light"
     },
     "output_type": "display_data"
    }
   ],
   "source": [
    "ellipse = patches.Ellipse(bub['c'][0], bub['w'][0], bub['h'][0], alpha=0.2)\n",
    "\n",
    "def get_ellipse_vertices(ellipse):\n",
    "    \"\"\"Transform matplotlib.patches.ellipse object into a\n",
    "    2D array of vertices for plotting the ellipse.\"\"\"\n",
    "    raw_vertices = ellipse.get_path().vertices\n",
    "    center = ellipse.center\n",
    "    vertices = np.copy(raw_vertices)\n",
    "    vertices[:, 0] = vertices[:, 0] * ellipse.width/2 + center[0]\n",
    "    vertices[:, 1] = vertices[:, 1] * ellipse.height/2 + center[1]\n",
    "    return vertices\n",
    "    \n",
    "vert = get_ellipse_vertices(ellipse)\n",
    "plt.plot(vert[:, 0], vert[:, 1])\n",
    "plt.show()\n",
    "\n",
    "\n",
    "#print(ellipse)\n",
    "#print(ellipse.get_path())\n",
    "#print(ellipse.get_patch_transform())"
   ]
  },
  {
   "cell_type": "code",
   "execution_count": 11,
   "metadata": {},
   "outputs": [
    {
     "data": {
      "text/plain": [
       "121.56862745098039"
      ]
     },
     "execution_count": 11,
     "metadata": {},
     "output_type": "execute_result"
    }
   ],
   "source": [
    " ellipse.height"
   ]
  },
  {
   "cell_type": "markdown",
   "metadata": {},
   "source": [
    "### Plot circles in channel cross section"
   ]
  },
  {
   "cell_type": "code",
   "execution_count": 12,
   "metadata": {},
   "outputs": [
    {
     "data": {
      "image/png": "[encoded data removed]",
      "text/plain": [
       "<Figure size 144x432 with 1 Axes>"
      ]
     },
     "metadata": {
      "needs_background": "light"
     },
     "output_type": "display_data"
    }
   ],
   "source": [
    "\n",
    "centers = np.array([[5, 50],\n",
    "                    [7, 40],\n",
    "                    [2, 70]])\n",
    "radii = [2, 3, 4]\n",
    "\n",
    "x_coords = np.arange(img.shape[0])\n",
    "cs = img[:, i]\n",
    "\n",
    "fig, ax = plt.subplots()\n",
    "for c in range(len(centers)):\n",
    "    ax.add_artist(plt.Circle((centers[c][0], centers[c][1]), radii[c]))\n",
    "ax.plot(x_coords, cs)\n",
    "plt.xlim([x_coords[0], x_coords[-1]])\n",
    "plt.ylim([0, data['d_um']])\n",
    "fig.set_size_inches(2, 6)\n",
    "plt.show()"
   ]
  },
  {
   "cell_type": "code",
   "execution_count": 13,
   "metadata": {
    "scrolled": false
   },
   "outputs": [
    {
     "data": {
      "text/plain": [
       "\"\\nstarttime = time()\\n\\n# loop over each image\\nfor L in list(model_info['channels']):\\n\\n    # get target image to model\\n    measured_image = model_info['channels'][L]['img_voidfrac']\\n\\n    # get list of channel index coordinates and potential bubbles\\n    channel_coords = get_channel(measured_image.shape)\\n    bub_dict = get_bubbles(model_info, measured_image)\\n\\n    # simulate empty channel to populate with simulated bubbles\\n    sim = {\\n        'label': L,\\n        'flowrate': model_info['channels'][L]['flowrate'],\\n        'temp': model_info['channels'][L]['temp'],\\n        'img_model': np.zeros_like(measured_image),\\n        'img_voidfrac': measured_image,\\n        'cent': [],\\n        'rad': []}\\n    \\n    # pixels to add to each bubble as a fluid buffer\\n    buffer_pixels = model_info['buffer_um']/model_info['um_per_pixel']\\n    \\n    # loop over each bubble to try and fit into the channel\\n    for i in range(len(bub_dict['rad'])):\\n\\n        # get z-profile of new bubble\\n        bub_profile = 2*np.sqrt(bub_dict['rad_squared'][i]\\n                                - np.square(channel_coords[:, 0]-bub_dict['x'][i])\\n                                - np.square(channel_coords[:, 1]-bub_dict['y'][i])) + buffer_pixels\\n\\n\\n        # convert nan to 0 and reshape to channel size\\n        bub_profile = np.where(np.isnan(bub_profile),\\n                               0, bub_profile).reshape(sim['img_model'].shape)\\n\\n\\n        # add new bubble to channel if it will fit\\n        if np.all(sim['img_model'] + bub_profile <= 1.02*sim['img_voidfrac']):\\n            sim['img_model'] += bub_profile\\n            sim['rad'].append(bub_dict['rad'][i])\\n            sim['cent'].append([bub_dict['x'][i], bub_dict['y'][i]])\\n\\n\\n    # get total avg error between image and model\\n    tot_err = np.mean(np.abs((sim['img_model']-sim['img_voidfrac'])/sim['img_voidfrac']))*100\\n    sim['percent_error'] = round(tot_err, 2)\\n    \\n    # save model to file on local machine\\n    save_model_path = os.path.join(os.getcwd(), 'models', L + '__model.npy')\\n    np.save(save_model_path, sim)\\n    \\n    # show original channel image\\n    plot_channel_image(sim['img_voidfrac'], title='Measured image '+L,\\n                       vmin=0, vmax=model_info['d_um'])\\n    plt.show()\\n\\n    # show simulated channel image\\n    plot_channel_image(sim['img_model'], title='Simulated image '+L,\\n                       vmin=0, vmax=model_info['d_um'])\\n    plt.show()\\n\\n    # print statistics of model\\n    print('bubbles in channel: {}'.format(len(sim['rad'])))\\n    print('total runtime (min): {}'.format(round((time() - starttime)/60,1)))\\n    print('simulation error (%): {}'.format(round(tot_err, 2)))\\n    print('--------------------------------------------------------------\\n')\\n\""
      ]
     },
     "execution_count": 13,
     "metadata": {},
     "output_type": "execute_result"
    }
   ],
   "source": [
    "'''\n",
    "starttime = time()\n",
    "\n",
    "# loop over each image\n",
    "for L in list(model_info['channels']):\n",
    "\n",
    "    # get target image to model\n",
    "    measured_image = model_info['channels'][L]['img_voidfrac']\n",
    "\n",
    "    # get list of channel index coordinates and potential bubbles\n",
    "    channel_coords = get_channel(measured_image.shape)\n",
    "    bub_dict = get_bubbles(model_info, measured_image)\n",
    "\n",
    "    # simulate empty channel to populate with simulated bubbles\n",
    "    sim = {\n",
    "        'label': L,\n",
    "        'flowrate': model_info['channels'][L]['flowrate'],\n",
    "        'temp': model_info['channels'][L]['temp'],\n",
    "        'img_model': np.zeros_like(measured_image),\n",
    "        'img_voidfrac': measured_image,\n",
    "        'cent': [],\n",
    "        'rad': []}\n",
    "    \n",
    "    # pixels to add to each bubble as a fluid buffer\n",
    "    buffer_pixels = model_info['buffer_um']/model_info['um_per_pixel']\n",
    "    \n",
    "    # loop over each bubble to try and fit into the channel\n",
    "    for i in range(len(bub_dict['rad'])):\n",
    "\n",
    "        # get z-profile of new bubble\n",
    "        bub_profile = 2*np.sqrt(bub_dict['rad_squared'][i]\n",
    "                                - np.square(channel_coords[:, 0]-bub_dict['x'][i])\n",
    "                                - np.square(channel_coords[:, 1]-bub_dict['y'][i])) + buffer_pixels\n",
    "\n",
    "\n",
    "        # convert nan to 0 and reshape to channel size\n",
    "        bub_profile = np.where(np.isnan(bub_profile),\n",
    "                               0, bub_profile).reshape(sim['img_model'].shape)\n",
    "\n",
    "\n",
    "        # add new bubble to channel if it will fit\n",
    "        if np.all(sim['img_model'] + bub_profile <= 1.02*sim['img_voidfrac']):\n",
    "            sim['img_model'] += bub_profile\n",
    "            sim['rad'].append(bub_dict['rad'][i])\n",
    "            sim['cent'].append([bub_dict['x'][i], bub_dict['y'][i]])\n",
    "\n",
    "\n",
    "    # get total avg error between image and model\n",
    "    tot_err = np.mean(np.abs((sim['img_model']-sim['img_voidfrac'])/sim['img_voidfrac']))*100\n",
    "    sim['percent_error'] = round(tot_err, 2)\n",
    "    \n",
    "    # save model to file on local machine\n",
    "    save_model_path = os.path.join(os.getcwd(), 'models', L + '__model.npy')\n",
    "    np.save(save_model_path, sim)\n",
    "    \n",
    "    # show original channel image\n",
    "    plot_channel_image(sim['img_voidfrac'], title='Measured image '+L,\n",
    "                       vmin=0, vmax=model_info['d_um'])\n",
    "    plt.show()\n",
    "\n",
    "    # show simulated channel image\n",
    "    plot_channel_image(sim['img_model'], title='Simulated image '+L,\n",
    "                       vmin=0, vmax=model_info['d_um'])\n",
    "    plt.show()\n",
    "\n",
    "    # print statistics of model\n",
    "    print('bubbles in channel: {}'.format(len(sim['rad'])))\n",
    "    print('total runtime (min): {}'.format(round((time() - starttime)/60,1)))\n",
    "    print('simulation error (%): {}'.format(round(tot_err, 2)))\n",
    "    print('--------------------------------------------------------------\\n')\n",
    "'''"
   ]
  },
  {
   "cell_type": "markdown",
   "metadata": {
    "colab_type": "text",
    "id": "Df6K5Dw1qmAw"
   },
   "source": [
    "## Model the void fraction in each channel image\n",
    "\n",
    "Now we use Monte Carlo methods to construct possible bubble configurations\n",
    "in the channel which will approximate the experimentally-measured\n",
    "void fraction in each image. This is carried out by beginning at the first\n",
    "column of pixlels and adding disks (cross-sectional slices) of bubbles.\n",
    "\n",
    "Then we progress to the next pixel column and add new cross sections\n",
    "based on which disks were present in the preceeding pixel column.\n",
    "\n",
    "First we import the trimmed channel images from the dictionary file.\n",
    "Then we loop over each image, construct an empty simulated channel, and\n",
    "incrementally add disks to it.\n",
    "\n",
    "The simulated channel models are saved to file in the *\\models* directory.\n",
    "Each model is saved as a Python dictionary and corresponds\n",
    "to a particular channel image. The model includes:\n",
    "* **label**: (filename) of the original channel image\n",
    "* **img_model**: simulated channel image\n",
    "* **img_voidfrac**: measured void fraction image\n",
    "* **cent**: the centers of the simulated bubbles, in ordered pairs (x, y)\n",
    "* **rad**: the radii of the simulated bubbles\n",
    "* **percent_error**: total percent error between the measured channel image and the simulated channel image"
   ]
  }
 ],
 "metadata": {
  "colab": {
   "collapsed_sections": [],
   "machine_shape": "hm",
   "name": "refrigerant_channel_modeling.ipynb",
   "provenance": [],
   "toc_visible": true
  },
  "kernelspec": {
   "display_name": "Python 3",
   "language": "python",
   "name": "python3"
  },
  "language_info": {
   "codemirror_mode": {
    "name": "ipython",
    "version": 3
   },
   "file_extension": ".py",
   "mimetype": "text/x-python",
   "name": "python",
   "nbconvert_exporter": "python",
   "pygments_lexer": "ipython3",
   "version": "3.7.1"
  }
 },
 "nbformat": 4,
 "nbformat_minor": 1
}
