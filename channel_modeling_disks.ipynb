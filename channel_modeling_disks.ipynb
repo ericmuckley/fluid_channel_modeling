{
 "cells": [
  {
   "cell_type": "markdown",
   "metadata": {
    "colab_type": "text",
    "id": "IpRDnryKvic_"
   },
   "source": [
    "# Modeling void fraction in fluid channel using cross-sectional disks\n",
    "\n",
    "This notebook is designed for analysis of neutron data\n",
    "which describes void fraction of refrigerant\n",
    "flowing through a microfluidic channel.\n",
    "\n",
    "Created on Thu Feb 13 10:33:13 2020  \n",
    "author: ericmuckley@gmail.com\n",
    "\n",
    "Full repository can be viewed at  \n",
    "https://github.com/ericmuckley/fluid_channel_modeling"
   ]
  },
  {
   "cell_type": "code",
   "execution_count": 1,
   "metadata": {},
   "outputs": [],
   "source": [
    "import os\n",
    "#import cv2\n",
    "import numpy as np\n",
    "#from glob import glob\n",
    "#from time import time\n",
    "\n",
    "from matplotlib import patches\n",
    "import matplotlib.pyplot as plt\n",
    "\n",
    "from scipy.interpolate import splev\n",
    "from scipy.optimize import curve_fit\n",
    "from scipy.interpolate import splrep\n",
    "\n",
    "from lmfit import minimize, Parameters, fit_report\n",
    "\n",
    "from shapely.geometry.polygon import Polygon\n",
    "from shapely.geometry import LineString, Point"
   ]
  },
  {
   "cell_type": "code",
   "execution_count": 2,
   "metadata": {
    "colab": {},
    "colab_type": "code",
    "id": "wTrQVMlru_eG"
   },
   "outputs": [],
   "source": [
    "# change matplotlib settings to make plots look nicer\n",
    "plt.rcParams['xtick.labelsize'] = 18\n",
    "plt.rcParams['ytick.labelsize'] = 18\n",
    "plt.rcParams['axes.linewidth'] = 3\n",
    "plt.rcParams['xtick.minor.width'] = 3\n",
    "plt.rcParams['xtick.major.width'] = 3\n",
    "plt.rcParams['ytick.minor.width'] = 3\n",
    "plt.rcParams['ytick.major.width'] = 3\n",
    "\n",
    "def plot_setup(labels=['X', 'Y'], fsize=18, title='', size=None):\n",
    "    \"\"\"Creates a custom plot configuration to make graphs look nice.\n",
    "    This should be called between plt.plot() and plt.show() commands.\"\"\"\n",
    "    plt.xlabel(str(labels[0]), fontsize=fsize)\n",
    "    plt.ylabel(str(labels[1]), fontsize=fsize)\n",
    "    plt.title(title, fontsize=fsize)\n",
    "\n",
    "def plot_channel_image(image, title=None, vmin=None, vmax=None):\n",
    "    \"\"\"Plot image of the channel, colored by void fraction.\"\"\"\n",
    "    plt.imshow(image, origin='lower', cmap='jet', vmin=vmin, vmax=vmax, )\n",
    "    fig = plt.gcf()\n",
    "    fig.set_size_inches(11,11)\n",
    "    plt.axis('off')\n",
    "    if title is not None:\n",
    "        plt.title(title, fontsize=16)\n",
    "    plt.show()\n",
    "\n",
    "def multi_ellipse_integral(x, *params):\n",
    "    \"\"\"\n",
    "    This is the same function as 'ellipse_integral'\n",
    "    but allows for fitting of multiple ellipses at once.\n",
    "    The number of params varies based on the number of cross\n",
    "    sections to fit.\n",
    "    \"\"\"\n",
    "    y = np.zeros_like(x, dtype='float')\n",
    "    for i in range(0, len(params), 3):\n",
    "        c = params[i]\n",
    "        w = params[i+1]\n",
    "        h = params[i+2]\n",
    "        new_profile = h * np.sqrt(1 - np.square(x-c) / np.square(w/2))\n",
    "        y = y + np.nan_to_num(new_profile)\n",
    "    return y\n",
    "\n",
    "def ellipse_integral_lmfit(params, x, y):\n",
    "    \"\"\"\n",
    "    Fitting function for the integral over an ellipse using the lmfit library\n",
    "    \"\"\"\n",
    "    x0 = params['x0']\n",
    "    w = params['w']\n",
    "    h = params['h']\n",
    "    integral = np.nan_to_num(h * np.sqrt(1 - np.square(x-x0)/np.square(w/2)))\n",
    "    return y - integral\n",
    "\n",
    "\n",
    "def ellipse_integral(x, c, w, h):\n",
    "    \"\"\"\n",
    "    Get intetral of ellipse across 'x' range, with center at 'c',\n",
    "    width 'w', and height 'h'.\n",
    "    \"\"\"\n",
    "    y = h * np.sqrt(1 - np.square(x-c)/np.square(w))\n",
    "    return np.nan_to_num(y)\n",
    "\n",
    "\n",
    "def resample(arr, new_len=100, new_xlims=None, vec_scale='lin', k=2, s=0):\n",
    "    \"\"\"\n",
    "    Resamples (stetches/compresses) a 2D array by using a spline fit.\n",
    "    Array should be shape [[x1, y1, ...ym], ...[xn, yn, ...yn]] where the\n",
    "    # first column in array is x-values and following next columns are\n",
    "    y values. If no x values exist, insert column np.arange(len(arr))\n",
    "    as x values.Accepts linear or log x-values, and new x_limits.\n",
    "    k and s are degree and smoothing factor of the interpolation spline.\n",
    "    \"\"\"\n",
    "    # check whether array should be resampled using linear or log scale\n",
    "    new_scale = np.geomspace if vec_scale == 'log' else np.linspace\n",
    "\n",
    "    # get new x-limits for the resampled array\n",
    "    if new_xlims is None:\n",
    "        new_x1, new_x2 = arr[0, 0], arr[-1, 0]\n",
    "    else:\n",
    "        new_x1, new_x2 = new_xlims[0], new_xlims[1]\n",
    "    # create new x values\n",
    "    arrx = new_scale(new_x1, new_x2, new_len)\n",
    "    # create new empty array to hold resampled values\n",
    "    stretched_array = np.zeros((new_len, len(arr[0])))\n",
    "    stretched_array[:, 0] = arrx \n",
    "    # for each y-column, calculate parameters of degree-3 spline fit\n",
    "    for col in range(1, len(arr[0])):\n",
    "        spline_params = splrep(arr[:, 0], arr[:, col], k=int(k), s=s)\n",
    "        # calculate spline at new x values\n",
    "        arry = splev(arrx, spline_params)\n",
    "        # populate stretched data into resampled array\n",
    "        stretched_array[:, col] = arry\n",
    "    return stretched_array\n",
    "\n",
    "def find_intersections(op_list1, op_list2):\n",
    "    \"\"\"\n",
    "    Find all intersections between two curves. Curves are defined by lists\n",
    "    of ordered pairs (x, y). Returns 'None' if no intersections are found.\n",
    "    \"\"\"\n",
    "    intersections = None\n",
    "    # loop over each pair of line segments\n",
    "    for i1 in range(len(op_list1)-1):\n",
    "        for i2 in range(len(op_list2)-1):\n",
    "            # create segment from the first set of points\n",
    "            seg1 = LineString([(op_list1[i1][0], op_list1[i1][1]),\n",
    "                            (op_list1[i1+1][0], op_list1[i1+1][1])])\n",
    "            # create segment from the second set of points\n",
    "            seg2 = LineString([(op_list2[i2][0], op_list2[i2][1]),\n",
    "                            (op_list2[i2+1][0], op_list2[i2+1][1])])\n",
    "            # check if segment from set-1 intersects segment from set-2\n",
    "            if seg1.intersects(seg2):\n",
    "                avg_x = np.mean([op_list1[i1][0], op_list1[i1+1][0],\n",
    "                                op_list2[i2][0], op_list2[i2+1][0]])\n",
    "                avg_y = np.mean([op_list1[i1][1], op_list1[i1+1][1],\n",
    "                                op_list2[i2][1], op_list2[i2+1][1]])\n",
    "                if intersections is None:\n",
    "                    intersections = [[avg_x, avg_y]]\n",
    "                else:\n",
    "                    intersections.append([avg_x, avg_y])\n",
    "    return intersections\n",
    "\n",
    "def get_ellipse_vertices(ellipse):\n",
    "    \"\"\"\n",
    "    Transform matplotlib.patches.ellipse object into a\n",
    "    2D array of vertices for plotting the ellipse.\n",
    "    \"\"\"\n",
    "    raw_vertices = ellipse.get_path().vertices\n",
    "    center = ellipse.center\n",
    "    vertices = np.copy(raw_vertices)\n",
    "    vertices[:, 0] = vertices[:, 0] * ellipse.width/2 + center[0]\n",
    "    vertices[:, 1] = vertices[:, 1] * ellipse.height/2 + center[1]\n",
    "    return vertices"
   ]
  },
  {
   "cell_type": "markdown",
   "metadata": {
    "colab_type": "text",
    "id": "x1TI-fEhvHPu"
   },
   "source": [
    "## Get image list\n",
    "\n",
    "Get list of all images which we will model."
   ]
  },
  {
   "cell_type": "code",
   "execution_count": 3,
   "metadata": {},
   "outputs": [
    {
     "name": "stdout",
     "output_type": "stream",
     "text": [
      "['w_um', 'h_um', 'd_um', 'um_per_pixel', 'buffer_um', 'min_rad_um', 'max_rad_um', 'channels']\n"
     ]
    }
   ],
   "source": [
    "# navigate to data folder\n",
    "data_path = os.path.join(os.getcwd(), 'data', 'compiled_data.npy')\n",
    "\n",
    "data = np.load(data_path, allow_pickle=True)[()]\n",
    "print(list(data))"
   ]
  },
  {
   "cell_type": "markdown",
   "metadata": {},
   "source": [
    "## Do something\n",
    "\n"
   ]
  },
  {
   "cell_type": "code",
   "execution_count": 4,
   "metadata": {},
   "outputs": [
    {
     "data": {
      "text/plain": [
       "\"\\n# loop over each image\\nfor L in data['channels']:\\n    img = data['channels'][L]['img_voidfrac']\\n    print(img.shape)\\n\""
      ]
     },
     "execution_count": 4,
     "metadata": {},
     "output_type": "execute_result"
    }
   ],
   "source": [
    "'''\n",
    "# loop over each image\n",
    "for L in data['channels']:\n",
    "    img = data['channels'][L]['img_voidfrac']\n",
    "    print(img.shape)\n",
    "'''"
   ]
  },
  {
   "cell_type": "code",
   "execution_count": 5,
   "metadata": {},
   "outputs": [
    {
     "data": {
      "text/plain": [
       "\"\\nplot_channel_image(img, title='Void fraction: {}'.format(L))\\n\\nx = np.arange(100)\\ny = multi_ellipse_integral(x, 20, 9, 4, 60, 4, 5)\\nplt.plot(x,y)\\nplt.show()\\n\""
      ]
     },
     "execution_count": 5,
     "metadata": {},
     "output_type": "execute_result"
    }
   ],
   "source": [
    "'''\n",
    "plot_channel_image(img, title='Void fraction: {}'.format(L))\n",
    "\n",
    "x = np.arange(100)\n",
    "y = multi_ellipse_integral(x, 20, 9, 4, 60, 4, 5)\n",
    "plt.plot(x,y)\n",
    "plt.show()\n",
    "'''"
   ]
  },
  {
   "cell_type": "markdown",
   "metadata": {},
   "source": [
    "from lmfit.models import LorentzianModel, ConstantModel\n",
    "import numpy as np\n",
    "import matplotlib.pyplot as plt\n",
    "\n",
    "x, y = np.loadtxt('Peaks.txt', unpack=True)\n",
    "\n",
    "peaks_in_interval = np.array([43, 159, 191, 296, 435, 544])\n",
    "number_of_peaks = len(peaks_in_interval)\n",
    "amplitude = y[peaks_in_interval] / 5\n",
    "width = np.zeros(number_of_peaks) + 0.1\n",
    "center = x[peaks_in_interval]\n",
    "\n",
    "def multi_ellipse_lmfit(n):\n",
    "    \"\"\"\n",
    "    Fit integral over 'n' number of ellipses using the\n",
    "    lmfit package\n",
    "    \"\"\"\n",
    "    num = \"_f{0}\".format(n)\n",
    "    model = LorentzianModel(prefix = pref)\n",
    "    model.set_param_hint('amplitude'+num, value=amplitude[num], min=0, max=5*amplitude[num])\n",
    "    model.set_param_hint('center'+num, value=center[num], min=center[num]-0.5, max=center[num]+0.5)\n",
    "    model.set_param_hint('sigma'+num, value=width[num], min=0, max=2)\n",
    "    return model\n",
    "\n",
    "mod = None\n",
    "for i in range(len(peaks_in_interval)):\n",
    "    this_mod = make_model(i)\n",
    "    if mod is None:\n",
    "        mod = this_mod\n",
    "    else:\n",
    "        mod = mod + this_mod\n",
    "\n",
    "offset = ConstantModel()\n",
    "offset.set_param_hint('c', value=np.average(y[-75:]))\n",
    "mod = mod + offset\n",
    "\n",
    "out=mod.fit(y, x=x, method='nelder')\n",
    "plt.interactive(True)\n",
    "print(out.fit_report())\n",
    "plt.plot(x, y)\n",
    "plt.plot(x, out.best_fit, label='best fit')\n",
    "plt.plot(x, out.init_fit, 'r--', label='fit with initial values')\n",
    "plt.show()\n"
   ]
  },
  {
   "cell_type": "code",
   "execution_count": 20,
   "metadata": {},
   "outputs": [
    {
     "name": "stdout",
     "output_type": "stream",
     "text": [
      "fitted parameters: {'x0': 5.011460288770355, 'w': 8.999999999758227, 'h': 121.56862745098009}\n"
     ]
    },
    {
     "data": {
      "image/png": "[encoded data removed]",
      "text/plain": [
       "<Figure size 144x432 with 1 Axes>"
      ]
     },
     "metadata": {
      "needs_background": "light"
     },
     "output_type": "display_data"
    },
    {
     "name": "stdout",
     "output_type": "stream",
     "text": [
      "fitted parameters: {'x0': 8.9999999998147, 'w': 4.118231208811242, 'h': 121.56859434568416}\n"
     ]
    },
    {
     "data": {
      "image/png": "[encoded data removed]",
      "text/plain": [
       "<Figure size 144x432 with 1 Axes>"
      ]
     },
     "metadata": {
      "needs_background": "light"
     },
     "output_type": "display_data"
    },
    {
     "name": "stdout",
     "output_type": "stream",
     "text": [
      "fitted parameters: {'x0': 6.519333990779973, 'w': 1.0386663487852905, 'h': 1.3792007954937682}\n"
     ]
    },
    {
     "data": {
      "image/png": "[encoded data removed]",
      "text/plain": [
       "<Figure size 144x432 with 1 Axes>"
      ]
     },
     "metadata": {
      "needs_background": "light"
     },
     "output_type": "display_data"
    },
    {
     "name": "stdout",
     "output_type": "stream",
     "text": [
      "fitted parameters: {'x0': 4.500855427573685, 'w': 1.001702643918295, 'h': 1.165376506875865}\n"
     ]
    },
    {
     "data": {
      "image/png": "[encoded data removed]",
      "text/plain": [
       "<Figure size 144x432 with 1 Axes>"
      ]
     },
     "metadata": {
      "needs_background": "light"
     },
     "output_type": "display_data"
    },
    {
     "name": "stdout",
     "output_type": "stream",
     "text": [
      "fitted parameters: {'x0': 3.996200729407854, 'w': 1.7790091247399649, 'h': 1.000000001032454}\n"
     ]
    },
    {
     "data": {
      "image/png": "[encoded data removed]",
      "text/plain": [
       "<Figure size 144x432 with 1 Axes>"
      ]
     },
     "metadata": {
      "needs_background": "light"
     },
     "output_type": "display_data"
    }
   ],
   "source": [
    "# loop over each image\n",
    "for L in data['channels']:\n",
    "    img = data['channels'][L]['img_voidfrac']\n",
    "\n",
    "# create cross sectional profile, and the simulated cross section\n",
    "cs = np.column_stack((np.arange(img.shape[0]), img[:, 0]))\n",
    "sim = np.zeros_like(cs[:, 1])\n",
    "\n",
    "\n",
    "for _ in range(5):\n",
    "    \n",
    "    # specify fitting parameters for lmfit routine\n",
    "    input_params = Parameters()\n",
    "    input_params.add('x0', value=np.max(cs[:, 0])/2, min=1, max=np.max(cs[:, 0])-1)\n",
    "    input_params.add('w', value=np.max(cs[:, 0])/2, min=1, max=np.max(cs[:, 0])-1)\n",
    "    input_params.add('h', value=np.max(cs[:, 1])/2, min=1, max=np.min(cs[:, 1]))\n",
    "\n",
    "    # run minimization\n",
    "    out = minimize(ellipse_integral_lmfit, input_params, args=(cs[:, 0], cs[:, 1]-sim))\n",
    "\n",
    "    # get residuals and fitted parameters\n",
    "    residual = out.residual\n",
    "    fitted_params = {k: v.value for (k, v) in out.params.items()}\n",
    "    print('fitted parameters: {}'.format(fitted_params))\n",
    "    fit = cs[:, 1] - residual\n",
    "    sim += fit\n",
    "\n",
    "    # plot all fitted ellipse\n",
    "    fig, ax = plt.subplots()\n",
    "    ellipse_object = patches.Ellipse((fitted_params['x0'], fitted_params['h']/2),\n",
    "                                     fitted_params['w'],\n",
    "                                     fitted_params['h'],\n",
    "                                     alpha=0.5)\n",
    "    ax.add_patch(ellipse_object)\n",
    "    # plot ellipse center marker\n",
    "    ax.scatter(fitted_params['x0'], fitted_params['h']/2, marker='+', s=60, c='b')\n",
    "\n",
    "    # plot measured cross section\n",
    "    plt.plot(cs[:, 0], cs[:, 1], c='k', label='VF')\n",
    "    # plot simulated cross section\n",
    "    plt.plot(cs[:, 0], fit, c='r', linestyle='--', label='fit')\n",
    "    \n",
    "    plt.plot(cs[:, 0], sim, c='g', linestyle='dotted', label='sim')\n",
    "    fig.set_size_inches(2, 6)\n",
    "    plt.xlim([0, np.max(cs[:, 0])])\n",
    "    plt.ylim([0, data['d_um']])\n",
    "    plt.legend()\n",
    "    plt.show()\n",
    "\n",
    "    \n"
   ]
  },
  {
   "cell_type": "code",
   "execution_count": 7,
   "metadata": {},
   "outputs": [
    {
     "data": {
      "text/plain": [
       "array([180.39215686, 102.75463387,  57.70518266,  27.52670838,\n",
       "         3.11068731,  23.529806  ,  26.49896862,  27.21949505,\n",
       "        53.2297743 , 105.47467957, 184.31372549])"
      ]
     },
     "execution_count": 7,
     "metadata": {},
     "output_type": "execute_result"
    }
   ],
   "source": [
    "out.residual"
   ]
  },
  {
   "cell_type": "code",
   "execution_count": 8,
   "metadata": {},
   "outputs": [
    {
     "data": {
      "text/plain": [
       "'\\ndef get_guess(cs, n):\\n    \"\"\"\\n    Get initial guess for fitting void fraction\\n    profile to multiple ellipsoidal discs. A guess is\\n    required for multi-peak fitting so that the number of\\n    fit parameters remained fixed.\\n    Inputs:\\n    cs: cross section to fit ([x, y] 2D array)\\n    n: number of ellipses to fit\\n    \"\"\"\\n    guess = []\\n    low_bounds = []\\n    high_bounds = []\\n    center_increment = (np.max(cs[:, 0])-np.min(cs[:, 0]))/n\\n    \\n    for g in range(n):\\n        guess += [\\n            (np.max(cs[:, 0])-np.min(cs[:, 0]))/2,#center_increment*(g+1) - n, # center x-coordinate\\n            (np.max(cs[:, 0])-np.min(cs[:, 0]-1))/(2), # x-radius\\n            np.mean(cs[:, 1])/2] # y-radius\\n        low_bounds += [1]*3\\n        high_bounds += [np.max(cs[:, 0])-1, np.max(cs[:, 0]), np.max(cs[:, 1])]\\n        #high_bounds += [np.inf, np.inf, np.inf]\\n    print(\\'guess\\')\\n    print(np.reshape(guess,((-1, 3))))\\n    print(\\'low bounds\\')\\n    print(np.reshape(low_bounds, (-1, 3)))\\n    print(\\'high_bounds\\')\\n    print(np.reshape(high_bounds, (-1, 3)))\\n    return guess, (low_bounds, high_bounds)\\n\\n\\n\\n# loop over each image\\nfor L in data[\\'channels\\']:\\n    img = data[\\'channels\\'][L][\\'img_voidfrac\\']\\n\\n# create a cross sectional profile to fit\\n\\n#cs = np.column_stack(([-1, 0, 1,2,3,4,5,6,7,8,9,10,11],\\n#                     [0] + list(img[:, 0]) + [0]))\\n    \\ncs = np.column_stack((np.arange(img.shape[0]), img[:, 0]))\\n\\n\\n\\n#cs = resample(np.column_stack((np.arange(img.shape[0]), img[:, 0])))\\n\\n# perform fitting\\nguess, bounds = get_guess(cs, 1)\\npopt, _ = curve_fit(multi_ellipse_integral, cs[:, 0], cs[:, 1], p0=guess, bounds=bounds)\\nfit = multi_ellipse_integral(cs[:, 0], *popt)\\nprint(\\'fit results\\')\\nprint(popt.reshape((-1, 3)))\\n\\n# plot all fitted ellipses\\nfig, ax = plt.subplots()\\nfor i in range(0, len(popt), 3):\\n    ellipse_object = patches.Ellipse((popt[i], popt[i+2]/2), popt[i+1], popt[i+2], alpha=0.5)\\n    ax.add_patch(ellipse_object)\\n\\n# plot measured cross section\\nplt.plot(cs[:, 0], cs[:, 1], c=\\'k\\')\\n# plot simulated cross section\\nplt.plot(cs[:, 0], fit, c=\\'r\\', linestyle=\\'--\\', label=\\'fit\\')\\nfig.set_size_inches(2, 6)\\nplt.xlim([0, np.max(cs[:, 0])])\\nplt.ylim([0, data[\\'d_um\\']])\\nplt.show()\\n'"
      ]
     },
     "execution_count": 8,
     "metadata": {},
     "output_type": "execute_result"
    }
   ],
   "source": [
    "'''\n",
    "def get_guess(cs, n):\n",
    "    \"\"\"\n",
    "    Get initial guess for fitting void fraction\n",
    "    profile to multiple ellipsoidal discs. A guess is\n",
    "    required for multi-peak fitting so that the number of\n",
    "    fit parameters remained fixed.\n",
    "    Inputs:\n",
    "    cs: cross section to fit ([x, y] 2D array)\n",
    "    n: number of ellipses to fit\n",
    "    \"\"\"\n",
    "    guess = []\n",
    "    low_bounds = []\n",
    "    high_bounds = []\n",
    "    center_increment = (np.max(cs[:, 0])-np.min(cs[:, 0]))/n\n",
    "    \n",
    "    for g in range(n):\n",
    "        guess += [\n",
    "            (np.max(cs[:, 0])-np.min(cs[:, 0]))/2,#center_increment*(g+1) - n, # center x-coordinate\n",
    "            (np.max(cs[:, 0])-np.min(cs[:, 0]-1))/(2), # x-radius\n",
    "            np.mean(cs[:, 1])/2] # y-radius\n",
    "        low_bounds += [1]*3\n",
    "        high_bounds += [np.max(cs[:, 0])-1, np.max(cs[:, 0]), np.max(cs[:, 1])]\n",
    "        #high_bounds += [np.inf, np.inf, np.inf]\n",
    "    print('guess')\n",
    "    print(np.reshape(guess,((-1, 3))))\n",
    "    print('low bounds')\n",
    "    print(np.reshape(low_bounds, (-1, 3)))\n",
    "    print('high_bounds')\n",
    "    print(np.reshape(high_bounds, (-1, 3)))\n",
    "    return guess, (low_bounds, high_bounds)\n",
    "\n",
    "\n",
    "\n",
    "# loop over each image\n",
    "for L in data['channels']:\n",
    "    img = data['channels'][L]['img_voidfrac']\n",
    "\n",
    "# create a cross sectional profile to fit\n",
    "\n",
    "#cs = np.column_stack(([-1, 0, 1,2,3,4,5,6,7,8,9,10,11],\n",
    "#                     [0] + list(img[:, 0]) + [0]))\n",
    "    \n",
    "cs = np.column_stack((np.arange(img.shape[0]), img[:, 0]))\n",
    "\n",
    "\n",
    "\n",
    "#cs = resample(np.column_stack((np.arange(img.shape[0]), img[:, 0])))\n",
    "\n",
    "# perform fitting\n",
    "guess, bounds = get_guess(cs, 1)\n",
    "popt, _ = curve_fit(multi_ellipse_integral, cs[:, 0], cs[:, 1], p0=guess, bounds=bounds)\n",
    "fit = multi_ellipse_integral(cs[:, 0], *popt)\n",
    "print('fit results')\n",
    "print(popt.reshape((-1, 3)))\n",
    "\n",
    "# plot all fitted ellipses\n",
    "fig, ax = plt.subplots()\n",
    "for i in range(0, len(popt), 3):\n",
    "    ellipse_object = patches.Ellipse((popt[i], popt[i+2]/2), popt[i+1], popt[i+2], alpha=0.5)\n",
    "    ax.add_patch(ellipse_object)\n",
    "\n",
    "# plot measured cross section\n",
    "plt.plot(cs[:, 0], cs[:, 1], c='k')\n",
    "# plot simulated cross section\n",
    "plt.plot(cs[:, 0], fit, c='r', linestyle='--', label='fit')\n",
    "fig.set_size_inches(2, 6)\n",
    "plt.xlim([0, np.max(cs[:, 0])])\n",
    "plt.ylim([0, data['d_um']])\n",
    "plt.show()\n",
    "'''"
   ]
  },
  {
   "cell_type": "code",
   "execution_count": 9,
   "metadata": {},
   "outputs": [],
   "source": [
    "#len(popt)"
   ]
  },
  {
   "cell_type": "code",
   "execution_count": null,
   "metadata": {},
   "outputs": [],
   "source": []
  },
  {
   "cell_type": "code",
   "execution_count": null,
   "metadata": {},
   "outputs": [],
   "source": []
  },
  {
   "cell_type": "code",
   "execution_count": null,
   "metadata": {},
   "outputs": [],
   "source": []
  },
  {
   "cell_type": "markdown",
   "metadata": {},
   "source": [
    "## Add elipses to channel cross section"
   ]
  },
  {
   "cell_type": "code",
   "execution_count": 10,
   "metadata": {},
   "outputs": [
    {
     "data": {
      "text/plain": [
       "\"    \\n\\n\\n    \\n\\n# use this to resample the cross section for higher resolution\\n#cs = resample(np.column_stack((np.arange(img.shape[0]), img[:,i])))\\ncs = np.column_stack((np.arange(img.shape[0]), img[:, 60]))\\n\\n# create dictionary for elliptical bubble dimensions (center, width, height)\\n# the initial bubble is created as large as possible to fit inside measured cross section\\nbub = {\\n    'c': [[np.max(cs[:, 0])/2, int(data['d_um']/2)]],\\n    'w': [np.max(cs[:, 0])],\\n    'h': [np.min(cs[:, 1])],\\n    'verts': []}\\n\\n# create initial ellipse\\nellipse_object = patches.Ellipse(bub['c'][0], bub['w'][0], bub['h'][0], alpha=0.5)\\nellipse_vertices = get_ellipse_vertices(ellipse_object)\\nbub['verts'].append(ellipse_vertices)\\n# create simulated cross section to hold ellipse cross sections and plot it\\nsim_cs = ellipse_integral(cs[:,0], bub['c'][0][0], bub['w'][0], bub['h'][0])\\n\\n\\n# plot initial ellipse\\nfig, ax = plt.subplots()\\nax.add_patch(ellipse_object)\\nax.scatter(*bub['c'][0], marker='+', s=80, c='b')\\n# add void fraction cross section to plot\\nax.plot(cs[:,0], cs[:,1], lw=2, c='k', label='meas. VF')\\n\\n# create new bubbles\\nfor b in range(1, 6):\\n    \\n    # calculate residual between measured and simulated cross sections\\n    residual = np.abs(cs[:, 1]-sim_cs)\\n    \\n    # ------------------------- generate new bubble ------------------------\\n    # get potential centers of new bubbles\\n    x_pot = np.arange(1, len(cs)-1)\\n    y_pot = np.arange(1, data['d_um']-1, 5)\\n    grid_cords = np.array(np.meshgrid(x_pot, y_pot)).T.reshape(-1,2)\\n    \\n    # check if potential center lies inside of any other bubbles\\n    inside_bubbles = points_inside_polygons(grid_cords, bub['verts']).astype('bool')\\n    good_pot = grid_cords[~inside_bubbles]\\n\\n    # loop over potential candidates for new bubbles\\n    new_residual_list = []\\n    for gpi in range(len(good_pot)):\\n        # get coordinates of prperties of potential candidate\\n        x, y = good_pot[gpi]\\n        w_max = 2*np.min([x, np.max(cs[:,0])-x])\\n        h_max = 2*np.min([y, data['d_um']-y])\\n        #area_max = w_max * h_max * np.pi\\n        \\n        # get ellipse of potential candidate\\n        ellipse_object = patches.Ellipse((x, y), w_max, h_max, alpha=0.3)\\n        ellipse_vertices = get_ellipse_vertices(ellipse_object)\\n\\n        # make sure potential ellipse doesn't overlap other existing ellipses\\n        all_previous_verts = get_all_polygon_vertices(bub['verts'])\\n        if find_intersections(ellipse_vertices, all_previous_verts) is None:\\n            #ax.add_patch(ellipse_object)\\n            \\n            new_cs = sim_cs + ellipse_integral(cs[:,0], x, w_max, h_max)\\n\\n            new_residual_list.append(np.abs(cs[:, 1]-new_cs))\\n        else:\\n            new_residual_list.append(residual)\\n      \\n    best_idx = np.argmin(np.sum(np.array(new_residual_list), axis=1))\\n    x, y = good_pot[best_idx]\\n    \\n    new_c, new_w, new_h = [x, y], 2*np.min([x, np.max(cs[:,0])-x]), 2*np.min([y, data['d_um']-y])\\n    bub['c'].append(new_c)\\n    bub['w'].append(new_w)\\n    bub['h'].append(new_h)\\n    \\n\\n    # add ellipse cross section to total simulated cross section \\n    sim_cs += ellipse_integral(cs[:,0], new_c[0], new_w, new_h)\\n    # plot new ellipse\\n    ellipse_object = patches.Ellipse(new_c, new_w, new_h, alpha=0.5)\\n    # save vertices\\n    ellipse_vertices = get_ellipse_vertices(ellipse_object)\\n    bub['verts'].append(ellipse_vertices)\\n    ax.add_patch(ellipse_object)\\n    ax.scatter(*bub['c'][b], marker='+', s=80, c='b')\\n    \\n   \\n\\n        \\n        \\n        \\n        \\n    # plot potential new bubble centers\\n    #[ax.scatter(*pot, s=2, c='gray') for pot in good_pot]\\n\\n    \\n    print('Total residual: {}'.format(np.round(np.sum(residual), 2)))\\n    \\n# plot simulated void fraction cross section\\nax.plot(cs[:, 0], sim_cs, c='r', linestyle='--', label='sim. VF')\\nplt.xlim([cs[0, 0], cs[-1, 0]])\\nplt.ylim([0, data['d_um']])\\nfig.set_size_inches(2, 6)\\n#plt.legend()\\nplt.show()\\nprint('Black line: \\t measured void fraction profile')\\nprint('Red line: \\t simulated void fraction profile')\\nprint('Blue ellipse: \\t simulated elliptical bubble cross-section')\\nprint('Blue cross: \\t simulated bubble center')\\n\""
      ]
     },
     "execution_count": 10,
     "metadata": {},
     "output_type": "execute_result"
    }
   ],
   "source": [
    "def points_inside_polygons(array_of_points, verts):\n",
    "    \"\"\"\n",
    "    Check if an array of points lies inside any polygons. \n",
    "    Uses Point and Polygon objects from Shapley library.\n",
    "    Inputs:\n",
    "    array_of_points: 2D array of coordinate ordered pairs\n",
    "    verts: list of arrays of vertices of each polygon\n",
    "    \"\"\"\n",
    "    inside = np.zeros(len(array_of_points))\n",
    "    # loop over each point\n",
    "    for p in range(len(array_of_points)):\n",
    "        point = Point(*array_of_points[p])\n",
    "        for v in verts:\n",
    "            polygon = Polygon(v)\n",
    "            if polygon.contains(point):\n",
    "                inside[p] = 1\n",
    "                break\n",
    "    return inside\n",
    "\n",
    "\n",
    "def get_all_polygon_vertices(arr):\n",
    "    \"\"\"\n",
    "    Get a list of ordered pairs of every polygon vertex\n",
    "    from an array of lists of vertices\n",
    "    \"\"\"\n",
    "    all_verts = []\n",
    "    for p in arr:\n",
    "        for v in p:\n",
    "            all_verts.append(list(v))\n",
    "    return all_verts\n",
    "'''    \n",
    "\n",
    "\n",
    "    \n",
    "\n",
    "# use this to resample the cross section for higher resolution\n",
    "#cs = resample(np.column_stack((np.arange(img.shape[0]), img[:,i])))\n",
    "cs = np.column_stack((np.arange(img.shape[0]), img[:, 60]))\n",
    "\n",
    "# create dictionary for elliptical bubble dimensions (center, width, height)\n",
    "# the initial bubble is created as large as possible to fit inside measured cross section\n",
    "bub = {\n",
    "    'c': [[np.max(cs[:, 0])/2, int(data['d_um']/2)]],\n",
    "    'w': [np.max(cs[:, 0])],\n",
    "    'h': [np.min(cs[:, 1])],\n",
    "    'verts': []}\n",
    "\n",
    "# create initial ellipse\n",
    "ellipse_object = patches.Ellipse(bub['c'][0], bub['w'][0], bub['h'][0], alpha=0.5)\n",
    "ellipse_vertices = get_ellipse_vertices(ellipse_object)\n",
    "bub['verts'].append(ellipse_vertices)\n",
    "# create simulated cross section to hold ellipse cross sections and plot it\n",
    "sim_cs = ellipse_integral(cs[:,0], bub['c'][0][0], bub['w'][0], bub['h'][0])\n",
    "\n",
    "\n",
    "# plot initial ellipse\n",
    "fig, ax = plt.subplots()\n",
    "ax.add_patch(ellipse_object)\n",
    "ax.scatter(*bub['c'][0], marker='+', s=80, c='b')\n",
    "# add void fraction cross section to plot\n",
    "ax.plot(cs[:,0], cs[:,1], lw=2, c='k', label='meas. VF')\n",
    "\n",
    "# create new bubbles\n",
    "for b in range(1, 6):\n",
    "    \n",
    "    # calculate residual between measured and simulated cross sections\n",
    "    residual = np.abs(cs[:, 1]-sim_cs)\n",
    "    \n",
    "    # ------------------------- generate new bubble ------------------------\n",
    "    # get potential centers of new bubbles\n",
    "    x_pot = np.arange(1, len(cs)-1)\n",
    "    y_pot = np.arange(1, data['d_um']-1, 5)\n",
    "    grid_cords = np.array(np.meshgrid(x_pot, y_pot)).T.reshape(-1,2)\n",
    "    \n",
    "    # check if potential center lies inside of any other bubbles\n",
    "    inside_bubbles = points_inside_polygons(grid_cords, bub['verts']).astype('bool')\n",
    "    good_pot = grid_cords[~inside_bubbles]\n",
    "\n",
    "    # loop over potential candidates for new bubbles\n",
    "    new_residual_list = []\n",
    "    for gpi in range(len(good_pot)):\n",
    "        # get coordinates of prperties of potential candidate\n",
    "        x, y = good_pot[gpi]\n",
    "        w_max = 2*np.min([x, np.max(cs[:,0])-x])\n",
    "        h_max = 2*np.min([y, data['d_um']-y])\n",
    "        #area_max = w_max * h_max * np.pi\n",
    "        \n",
    "        # get ellipse of potential candidate\n",
    "        ellipse_object = patches.Ellipse((x, y), w_max, h_max, alpha=0.3)\n",
    "        ellipse_vertices = get_ellipse_vertices(ellipse_object)\n",
    "\n",
    "        # make sure potential ellipse doesn't overlap other existing ellipses\n",
    "        all_previous_verts = get_all_polygon_vertices(bub['verts'])\n",
    "        if find_intersections(ellipse_vertices, all_previous_verts) is None:\n",
    "            #ax.add_patch(ellipse_object)\n",
    "            \n",
    "            new_cs = sim_cs + ellipse_integral(cs[:,0], x, w_max, h_max)\n",
    "\n",
    "            new_residual_list.append(np.abs(cs[:, 1]-new_cs))\n",
    "        else:\n",
    "            new_residual_list.append(residual)\n",
    "      \n",
    "    best_idx = np.argmin(np.sum(np.array(new_residual_list), axis=1))\n",
    "    x, y = good_pot[best_idx]\n",
    "    \n",
    "    new_c, new_w, new_h = [x, y], 2*np.min([x, np.max(cs[:,0])-x]), 2*np.min([y, data['d_um']-y])\n",
    "    bub['c'].append(new_c)\n",
    "    bub['w'].append(new_w)\n",
    "    bub['h'].append(new_h)\n",
    "    \n",
    "\n",
    "    # add ellipse cross section to total simulated cross section \n",
    "    sim_cs += ellipse_integral(cs[:,0], new_c[0], new_w, new_h)\n",
    "    # plot new ellipse\n",
    "    ellipse_object = patches.Ellipse(new_c, new_w, new_h, alpha=0.5)\n",
    "    # save vertices\n",
    "    ellipse_vertices = get_ellipse_vertices(ellipse_object)\n",
    "    bub['verts'].append(ellipse_vertices)\n",
    "    ax.add_patch(ellipse_object)\n",
    "    ax.scatter(*bub['c'][b], marker='+', s=80, c='b')\n",
    "    \n",
    "   \n",
    "\n",
    "        \n",
    "        \n",
    "        \n",
    "        \n",
    "    # plot potential new bubble centers\n",
    "    #[ax.scatter(*pot, s=2, c='gray') for pot in good_pot]\n",
    "\n",
    "    \n",
    "    print('Total residual: {}'.format(np.round(np.sum(residual), 2)))\n",
    "    \n",
    "# plot simulated void fraction cross section\n",
    "ax.plot(cs[:, 0], sim_cs, c='r', linestyle='--', label='sim. VF')\n",
    "plt.xlim([cs[0, 0], cs[-1, 0]])\n",
    "plt.ylim([0, data['d_um']])\n",
    "fig.set_size_inches(2, 6)\n",
    "#plt.legend()\n",
    "plt.show()\n",
    "print('Black line: \\t measured void fraction profile')\n",
    "print('Red line: \\t simulated void fraction profile')\n",
    "print('Blue ellipse: \\t simulated elliptical bubble cross-section')\n",
    "print('Blue cross: \\t simulated bubble center')\n",
    "'''"
   ]
  },
  {
   "cell_type": "code",
   "execution_count": 11,
   "metadata": {},
   "outputs": [
    {
     "data": {
      "text/plain": [
       "\"\\n# use this to resample the cross section for higher resolution\\n#cs = resample(np.column_stack((np.arange(img.shape[0]), img[:,i])))\\ncs = np.column_stack((np.arange(img.shape[0]), img[:, 60]))\\n\\n# create simulated cross section to hold ellipse cross sections and plot it\\nsim_cs = np.zeros_like(cs[:, 1])#ellipse_integral(cs[:,0], bub['c'][0][0], bub['w'][0], bub['h'][0])\\n\\n# create dictionary for bubble dimensions (center, width, height, and ellipse vertices)\\nbub = {'c': [], 'w': [], 'h': [], 'verts': []}\\n\\n# plot void fraction cross section\\nfig, ax = plt.subplots()\\nax.plot(cs[:,0], cs[:,1], lw=2, c='k', label='meas. VF')\\n\\n# create new bubbles\\nfor b in range(5):\\n    print('=============== bubble {} ================'.format(b))\\n    # calculate residual between measured and simulated cross sections\\n    residual = np.abs(cs[:, 1]-sim_cs)\\n    \\n    # ------------------------- generate new bubble ------------------------\\n    # get potential centers of new bubbles\\n    x_pot = np.arange(1, len(cs)-1)\\n    y_pot = np.arange(1, data['d_um']-1, 5)\\n    grid_cords = np.array(np.meshgrid(x_pot, y_pot)).T.reshape(-1,2)\\n    \\n    # check if potential center lies inside of any other bubbles\\n    inside_bubbles = points_inside_polygons(grid_cords, bub['verts']).astype('bool')\\n    good_pot = grid_cords[~inside_bubbles]\\n    print('found {} potential new bubble centers'.format(len(good_pot)))\\n    \\n    # loop over potential candidates for new bubbles\\n    new_residual_list = []\\n    pot_cents = []\\n    for gpi in range(len(good_pot)):\\n        # get coordinates of properties of potential candidate\\n        \\n        x, y = good_pot[gpi]\\n        w_max = 2*np.min([x, np.max(cs[:,0])-x])\\n        h_max = 2*np.min([y, data['d_um']-y])\\n        #area_max = w_max * h_max * np.pi\\n\\n        for ww in range(1, int(np.floor(w_max))):\\n            for hh in range(1, int(np.floor(h_max)), 5):\\n                pot_cents.append(good_pot[gpi])\\n                # get ellipse of potential candidate\\n                ellipse_object = patches.Ellipse((x, y), ww, hh, alpha=0.3)\\n                ellipse_vertices = get_ellipse_vertices(ellipse_object)\\n\\n                # make sure potential ellipse doesn't overlap other existing ellipses\\n                all_previous_verts = get_all_polygon_vertices(bub['verts'])\\n                if find_intersections(ellipse_vertices, all_previous_verts) is None:\\n                    #ax.add_patch(ellipse_object)\\n\\n                    new_cs = sim_cs + ellipse_integral(cs[:,0], x, w_max, h_max)\\n\\n                    new_residual_list.append(np.abs(cs[:, 1]-new_cs))\\n                else:\\n                    new_residual_list.append(residual)\\n\\n    print('{} possible bubble shapes'.format(len([a for a in new_residual_list if a is not None])))\\n    \\n    best_idx = np.argmin(np.sum(np.array(new_residual_list), axis=1))\\n    x, y = pot_cents[best_idx]\\n    \\n    new_c, new_w, new_h = [x, y], 2*np.min([x, np.max(cs[:,0])-x]), 2*np.min([y, data['d_um']-y])\\n    bub['c'].append(new_c)\\n    bub['w'].append(new_w)\\n    bub['h'].append(new_h)\\n    \\n\\n    # add ellipse cross section to total simulated cross section \\n    sim_cs += ellipse_integral(cs[:,0], new_c[0], new_w, new_h)\\n    # plot new ellipse\\n    ellipse_object = patches.Ellipse(new_c, new_w, new_h, alpha=0.5)\\n    # save vertices\\n    ellipse_vertices = get_ellipse_vertices(ellipse_object)\\n    bub['verts'].append(ellipse_vertices)\\n    ax.add_patch(ellipse_object)\\n    ax.scatter(*new_c, marker='+', s=80, c='b')\\n    \\n    \\n    # plot potential new bubble centers\\n    #[ax.scatter(*pot, s=2, c='gray') for pot in good_pot]\\n\\n    \\n    print('Total residual: {}'.format(np.round(np.sum(residual), 2)))\\n    \\n# plot simulated void fraction cross section\\nax.plot(cs[:, 0], sim_cs, c='r', linestyle='--', label='sim. VF')\\nplt.xlim([cs[0, 0], cs[-1, 0]])\\nplt.ylim([0, data['d_um']])\\nfig.set_size_inches(2, 6)\\n#plt.legend()\\nplt.show()\\nprint('Black line: \\t measured void fraction profile')\\nprint('Red line: \\t simulated void fraction profile')\\nprint('Blue ellipse: \\t simulated elliptical bubble cross-section')\\nprint('Blue cross: \\t simulated bubble center')\\n\""
      ]
     },
     "execution_count": 11,
     "metadata": {},
     "output_type": "execute_result"
    }
   ],
   "source": [
    "'''\n",
    "# use this to resample the cross section for higher resolution\n",
    "#cs = resample(np.column_stack((np.arange(img.shape[0]), img[:,i])))\n",
    "cs = np.column_stack((np.arange(img.shape[0]), img[:, 60]))\n",
    "\n",
    "# create simulated cross section to hold ellipse cross sections and plot it\n",
    "sim_cs = np.zeros_like(cs[:, 1])#ellipse_integral(cs[:,0], bub['c'][0][0], bub['w'][0], bub['h'][0])\n",
    "\n",
    "# create dictionary for bubble dimensions (center, width, height, and ellipse vertices)\n",
    "bub = {'c': [], 'w': [], 'h': [], 'verts': []}\n",
    "\n",
    "# plot void fraction cross section\n",
    "fig, ax = plt.subplots()\n",
    "ax.plot(cs[:,0], cs[:,1], lw=2, c='k', label='meas. VF')\n",
    "\n",
    "# create new bubbles\n",
    "for b in range(5):\n",
    "    print('=============== bubble {} ================'.format(b))\n",
    "    # calculate residual between measured and simulated cross sections\n",
    "    residual = np.abs(cs[:, 1]-sim_cs)\n",
    "    \n",
    "    # ------------------------- generate new bubble ------------------------\n",
    "    # get potential centers of new bubbles\n",
    "    x_pot = np.arange(1, len(cs)-1)\n",
    "    y_pot = np.arange(1, data['d_um']-1, 5)\n",
    "    grid_cords = np.array(np.meshgrid(x_pot, y_pot)).T.reshape(-1,2)\n",
    "    \n",
    "    # check if potential center lies inside of any other bubbles\n",
    "    inside_bubbles = points_inside_polygons(grid_cords, bub['verts']).astype('bool')\n",
    "    good_pot = grid_cords[~inside_bubbles]\n",
    "    print('found {} potential new bubble centers'.format(len(good_pot)))\n",
    "    \n",
    "    # loop over potential candidates for new bubbles\n",
    "    new_residual_list = []\n",
    "    pot_cents = []\n",
    "    for gpi in range(len(good_pot)):\n",
    "        # get coordinates of properties of potential candidate\n",
    "        \n",
    "        x, y = good_pot[gpi]\n",
    "        w_max = 2*np.min([x, np.max(cs[:,0])-x])\n",
    "        h_max = 2*np.min([y, data['d_um']-y])\n",
    "        #area_max = w_max * h_max * np.pi\n",
    "\n",
    "        for ww in range(1, int(np.floor(w_max))):\n",
    "            for hh in range(1, int(np.floor(h_max)), 5):\n",
    "                pot_cents.append(good_pot[gpi])\n",
    "                # get ellipse of potential candidate\n",
    "                ellipse_object = patches.Ellipse((x, y), ww, hh, alpha=0.3)\n",
    "                ellipse_vertices = get_ellipse_vertices(ellipse_object)\n",
    "\n",
    "                # make sure potential ellipse doesn't overlap other existing ellipses\n",
    "                all_previous_verts = get_all_polygon_vertices(bub['verts'])\n",
    "                if find_intersections(ellipse_vertices, all_previous_verts) is None:\n",
    "                    #ax.add_patch(ellipse_object)\n",
    "\n",
    "                    new_cs = sim_cs + ellipse_integral(cs[:,0], x, w_max, h_max)\n",
    "\n",
    "                    new_residual_list.append(np.abs(cs[:, 1]-new_cs))\n",
    "                else:\n",
    "                    new_residual_list.append(residual)\n",
    "\n",
    "    print('{} possible bubble shapes'.format(len([a for a in new_residual_list if a is not None])))\n",
    "    \n",
    "    best_idx = np.argmin(np.sum(np.array(new_residual_list), axis=1))\n",
    "    x, y = pot_cents[best_idx]\n",
    "    \n",
    "    new_c, new_w, new_h = [x, y], 2*np.min([x, np.max(cs[:,0])-x]), 2*np.min([y, data['d_um']-y])\n",
    "    bub['c'].append(new_c)\n",
    "    bub['w'].append(new_w)\n",
    "    bub['h'].append(new_h)\n",
    "    \n",
    "\n",
    "    # add ellipse cross section to total simulated cross section \n",
    "    sim_cs += ellipse_integral(cs[:,0], new_c[0], new_w, new_h)\n",
    "    # plot new ellipse\n",
    "    ellipse_object = patches.Ellipse(new_c, new_w, new_h, alpha=0.5)\n",
    "    # save vertices\n",
    "    ellipse_vertices = get_ellipse_vertices(ellipse_object)\n",
    "    bub['verts'].append(ellipse_vertices)\n",
    "    ax.add_patch(ellipse_object)\n",
    "    ax.scatter(*new_c, marker='+', s=80, c='b')\n",
    "    \n",
    "    \n",
    "    # plot potential new bubble centers\n",
    "    #[ax.scatter(*pot, s=2, c='gray') for pot in good_pot]\n",
    "\n",
    "    \n",
    "    print('Total residual: {}'.format(np.round(np.sum(residual), 2)))\n",
    "    \n",
    "# plot simulated void fraction cross section\n",
    "ax.plot(cs[:, 0], sim_cs, c='r', linestyle='--', label='sim. VF')\n",
    "plt.xlim([cs[0, 0], cs[-1, 0]])\n",
    "plt.ylim([0, data['d_um']])\n",
    "fig.set_size_inches(2, 6)\n",
    "#plt.legend()\n",
    "plt.show()\n",
    "print('Black line: \\t measured void fraction profile')\n",
    "print('Red line: \\t simulated void fraction profile')\n",
    "print('Blue ellipse: \\t simulated elliptical bubble cross-section')\n",
    "print('Blue cross: \\t simulated bubble center')\n",
    "'''"
   ]
  },
  {
   "cell_type": "code",
   "execution_count": null,
   "metadata": {},
   "outputs": [],
   "source": []
  },
  {
   "cell_type": "code",
   "execution_count": null,
   "metadata": {},
   "outputs": [],
   "source": []
  },
  {
   "cell_type": "code",
   "execution_count": null,
   "metadata": {},
   "outputs": [],
   "source": []
  },
  {
   "cell_type": "code",
   "execution_count": null,
   "metadata": {},
   "outputs": [],
   "source": []
  }
 ],
 "metadata": {
  "colab": {
   "collapsed_sections": [],
   "machine_shape": "hm",
   "name": "refrigerant_channel_modeling.ipynb",
   "provenance": [],
   "toc_visible": true
  },
  "kernelspec": {
   "display_name": "Python 3",
   "language": "python",
   "name": "python3"
  },
  "language_info": {
   "codemirror_mode": {
    "name": "ipython",
    "version": 3
   },
   "file_extension": ".py",
   "mimetype": "text/x-python",
   "name": "python",
   "nbconvert_exporter": "python",
   "pygments_lexer": "ipython3",
   "version": "3.7.1"
  }
 },
 "nbformat": 4,
 "nbformat_minor": 1
}
